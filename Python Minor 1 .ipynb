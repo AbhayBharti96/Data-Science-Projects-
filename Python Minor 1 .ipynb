{
 "cells": [
  {
   "cell_type": "code",
   "execution_count": null,
   "id": "c4cc5d69-0f00-4104-be34-23e3d6c364f6",
   "metadata": {},
   "outputs": [],
   "source": [
    "import random\n",
    "def main():\n",
    "    # Get the upper bound from the user\n",
    "    upper_bound = int(input(\"Enter the upper bound for the random number: \"))\n",
    "    \n",
    "    # Generate a random number\n",
    "    secret_number = random.randint(1, upper_bound)\n",
    "    \n",
    "    # Initialize the number of trials\n",
    "    num_trials = 0\n",
    "    \n",
    "    while True:\n",
    "        # Ask the user to guess\n",
    "        user_guess = int(input(\"Guess the number: \"))\n",
    "        num_trials += 1\n",
    "        \n",
    "        if user_guess == secret_number:\n",
    "            print(f\"Congrats!!! You got it. It took {num_trials} trials.\")\n",
    "            break\n",
    "        elif user_guess < secret_number:\n",
    "            print(\"Try a higher number.\")\n",
    "        else:\n",
    "            print(\"Try a lower number.\")\n",
    "\n",
    "if __name__ == \"__main__\":\n",
    "    main()"
   ]
  },
  {
   "cell_type": "code",
   "execution_count": null,
   "id": "b5c1f4a5-fdf9-4f9e-b8ea-1d1b3f2154b8",
   "metadata": {},
   "outputs": [],
   "source": []
  }
 ],
 "metadata": {
  "kernelspec": {
   "display_name": "Python 3 (ipykernel)",
   "language": "python",
   "name": "python3"
  },
  "language_info": {
   "codemirror_mode": {
    "name": "ipython",
    "version": 3
   },
   "file_extension": ".py",
   "mimetype": "text/x-python",
   "name": "python",
   "nbconvert_exporter": "python",
   "pygments_lexer": "ipython3",
   "version": "3.11.7"
  }
 },
 "nbformat": 4,
 "nbformat_minor": 5
}
