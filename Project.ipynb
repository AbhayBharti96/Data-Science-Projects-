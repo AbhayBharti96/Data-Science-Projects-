{
 "cells": [
  {
   "cell_type": "markdown",
   "id": "3336b1d5-c3da-41db-b4d7-7430dd7ae2ae",
   "metadata": {},
   "source": [
    "### Major Project using python important liabraries..."
   ]
  },
  {
   "cell_type": "code",
   "execution_count": 1,
   "id": "54a364d8-a6c6-465e-a9cf-9636064674a9",
   "metadata": {},
   "outputs": [],
   "source": [
    "### Importing imp Liabraries...\n",
    "import pandas as pd\n",
    "import numpy as np\n",
    "import matplotlib.pyplot as plt\n",
    "import seaborn as sns"
   ]
  },
  {
   "cell_type": "code",
   "execution_count": 2,
   "id": "2447de0e-0b29-4e85-9d07-5563c8b041ef",
   "metadata": {},
   "outputs": [
    {
     "name": "stdout",
     "output_type": "stream",
     "text": [
      "<class 'pandas.core.frame.DataFrame'>\n",
      "RangeIndex: 11345 entries, 0 to 11344\n",
      "Data columns (total 15 columns):\n",
      " #   Column            Non-Null Count  Dtype  \n",
      "---  ------            --------------  -----  \n",
      " 0   User_ID           11321 non-null  float64\n",
      " 1   Cust_name         11344 non-null  object \n",
      " 2   Product_ID        11341 non-null  object \n",
      " 3   Gender            11341 non-null  object \n",
      " 4   Age Group         11339 non-null  object \n",
      " 5   Age               11334 non-null  object \n",
      " 6   Marital_Status    11339 non-null  float64\n",
      " 7   State             11332 non-null  object \n",
      " 8   Zone              11334 non-null  object \n",
      " 9   Occupation        11339 non-null  object \n",
      " 10  Product_Category  11334 non-null  object \n",
      " 11  Orders            11342 non-null  float64\n",
      " 12  Amount            11331 non-null  object \n",
      " 13  Status            0 non-null      float64\n",
      " 14  unnamed1          0 non-null      float64\n",
      "dtypes: float64(5), object(10)\n",
      "memory usage: 1.3+ MB\n"
     ]
    }
   ],
   "source": [
    "### Importing the data..\n",
    "dv = pd.read_csv('C:\\\\Users\\\\abhay\\\\Downloads\\\\Diwali Sales Data.csv',encoding='unicode_escape')\n",
    "dv\n",
    "dv.info()"
   ]
  },
  {
   "cell_type": "code",
   "execution_count": 3,
   "id": "c80b0b4e-b5d4-4b8e-8745-4029d01cc23f",
   "metadata": {},
   "outputs": [],
   "source": [
    "### Making copy of My existing Data Set\n",
    "df = dv.copy()"
   ]
  },
  {
   "cell_type": "markdown",
   "id": "92c01085-f5d1-4c1a-ac2b-7d075b37b61b",
   "metadata": {},
   "source": [
    "### Data Preprocessing \n",
    "**Data Profiling**\n",
    "**Data Cleaning**\n",
    "**Data Consistency**\n",
    "**Data formatting**\n",
    "**Outlier Detection and Removal**"
   ]
  },
  {
   "cell_type": "code",
   "execution_count": 4,
   "id": "e31f72aa-72f9-40ef-ac37-d980bac64950",
   "metadata": {},
   "outputs": [
    {
     "data": {
      "text/plain": [
       "(11345, 15)"
      ]
     },
     "execution_count": 4,
     "metadata": {},
     "output_type": "execute_result"
    }
   ],
   "source": [
    "##for checking the No of col and rows \n",
    "df.shape"
   ]
  },
  {
   "cell_type": "code",
   "execution_count": 5,
   "id": "038c6957-037a-405c-aba2-adc2776f3014",
   "metadata": {},
   "outputs": [
    {
     "name": "stdout",
     "output_type": "stream",
     "text": [
      "<class 'pandas.core.frame.DataFrame'>\n",
      "RangeIndex: 11345 entries, 0 to 11344\n",
      "Data columns (total 15 columns):\n",
      " #   Column            Non-Null Count  Dtype  \n",
      "---  ------            --------------  -----  \n",
      " 0   User_ID           11321 non-null  float64\n",
      " 1   Cust_name         11344 non-null  object \n",
      " 2   Product_ID        11341 non-null  object \n",
      " 3   Gender            11341 non-null  object \n",
      " 4   Age Group         11339 non-null  object \n",
      " 5   Age               11334 non-null  object \n",
      " 6   Marital_Status    11339 non-null  float64\n",
      " 7   State             11332 non-null  object \n",
      " 8   Zone              11334 non-null  object \n",
      " 9   Occupation        11339 non-null  object \n",
      " 10  Product_Category  11334 non-null  object \n",
      " 11  Orders            11342 non-null  float64\n",
      " 12  Amount            11331 non-null  object \n",
      " 13  Status            0 non-null      float64\n",
      " 14  unnamed1          0 non-null      float64\n",
      "dtypes: float64(5), object(10)\n",
      "memory usage: 1.3+ MB\n"
     ]
    }
   ],
   "source": [
    "## Provides the raw information about data..\n",
    "df.info()"
   ]
  },
  {
   "cell_type": "code",
   "execution_count": 6,
   "id": "ce4de6f9-f41a-45b9-9ce7-b881c9100818",
   "metadata": {},
   "outputs": [
    {
     "data": {
      "text/plain": [
       "User_ID                24\n",
       "Cust_name               1\n",
       "Product_ID              4\n",
       "Gender                  4\n",
       "Age Group               6\n",
       "Age                    11\n",
       "Marital_Status          6\n",
       "State                  13\n",
       "Zone                   11\n",
       "Occupation              6\n",
       "Product_Category       11\n",
       "Orders                  3\n",
       "Amount                 14\n",
       "Status              11345\n",
       "unnamed1            11345\n",
       "dtype: int64"
      ]
     },
     "execution_count": 6,
     "metadata": {},
     "output_type": "execute_result"
    }
   ],
   "source": [
    "### Checking the Null values...\n",
    "df.isna().sum()"
   ]
  },
  {
   "cell_type": "code",
   "execution_count": 7,
   "id": "e5e2d73c-507a-4100-92e6-d51d0d850a36",
   "metadata": {},
   "outputs": [
    {
     "data": {
      "text/plain": [
       "Index(['User_ID', 'Cust_name', 'Product_ID', 'Gender', 'Age Group', 'Age',\n",
       "       'Marital_Status', 'State', 'Zone', 'Occupation', 'Product_Category',\n",
       "       'Orders', 'Amount', 'Status', 'unnamed1'],\n",
       "      dtype='object')"
      ]
     },
     "execution_count": 7,
     "metadata": {},
     "output_type": "execute_result"
    }
   ],
   "source": [
    "### Investigating the columns..\n",
    "all_columns= df.columns\n",
    "all_columns"
   ]
  },
  {
   "cell_type": "code",
   "execution_count": 8,
   "id": "dda60368-6f09-4971-9f94-78f6986fba6c",
   "metadata": {},
   "outputs": [
    {
     "data": {
      "text/plain": [
       "Index(['User_ID', 'Marital_Status', 'Orders', 'Status', 'unnamed1'], dtype='object')"
      ]
     },
     "execution_count": 8,
     "metadata": {},
     "output_type": "execute_result"
    }
   ],
   "source": [
    "### Selctiing Numeric Columns..\n",
    "numeric_columns = df.select_dtypes(include = np.number).columns\n",
    "numeric_columns"
   ]
  },
  {
   "cell_type": "code",
   "execution_count": 9,
   "id": "f4ca5eaa-082b-46a4-95f5-22d290a44691",
   "metadata": {},
   "outputs": [
    {
     "data": {
      "text/plain": [
       "Index(['Cust_name', 'Product_ID', 'Gender', 'Age Group', 'Age', 'State',\n",
       "       'Zone', 'Occupation', 'Product_Category', 'Amount'],\n",
       "      dtype='object')"
      ]
     },
     "execution_count": 9,
     "metadata": {},
     "output_type": "execute_result"
    }
   ],
   "source": [
    "### Non numeric columns..\n",
    "nonnumeric_columns = df.select_dtypes(include = object).columns\n",
    "nonnumeric_columns"
   ]
  },
  {
   "cell_type": "code",
   "execution_count": 10,
   "id": "cb4b6654-fb06-4237-a1e3-296edc9236b8",
   "metadata": {},
   "outputs": [
    {
     "data": {
      "text/plain": [
       "0        False\n",
       "1        False\n",
       "2        False\n",
       "3        False\n",
       "4        False\n",
       "         ...  \n",
       "11340    False\n",
       "11341    False\n",
       "11342    False\n",
       "11343     True\n",
       "11344    False\n",
       "Length: 11345, dtype: bool"
      ]
     },
     "execution_count": 10,
     "metadata": {},
     "output_type": "execute_result"
    }
   ],
   "source": [
    "### Checking the Duplicate values...\n",
    "df.duplicated()"
   ]
  },
  {
   "cell_type": "code",
   "execution_count": 11,
   "id": "a84c3620-6616-4cb5-82fa-1fdea46d1229",
   "metadata": {},
   "outputs": [
    {
     "data": {
      "text/html": [
       "<div>\n",
       "<style scoped>\n",
       "    .dataframe tbody tr th:only-of-type {\n",
       "        vertical-align: middle;\n",
       "    }\n",
       "\n",
       "    .dataframe tbody tr th {\n",
       "        vertical-align: top;\n",
       "    }\n",
       "\n",
       "    .dataframe thead th {\n",
       "        text-align: right;\n",
       "    }\n",
       "</style>\n",
       "<table border=\"1\" class=\"dataframe\">\n",
       "  <thead>\n",
       "    <tr style=\"text-align: right;\">\n",
       "      <th></th>\n",
       "      <th>User_ID</th>\n",
       "      <th>Cust_name</th>\n",
       "      <th>Product_ID</th>\n",
       "      <th>Gender</th>\n",
       "      <th>Age Group</th>\n",
       "      <th>Age</th>\n",
       "      <th>Marital_Status</th>\n",
       "      <th>State</th>\n",
       "      <th>Zone</th>\n",
       "      <th>Occupation</th>\n",
       "      <th>Product_Category</th>\n",
       "      <th>Orders</th>\n",
       "      <th>Amount</th>\n",
       "      <th>Status</th>\n",
       "      <th>unnamed1</th>\n",
       "    </tr>\n",
       "  </thead>\n",
       "  <tbody>\n",
       "  </tbody>\n",
       "</table>\n",
       "</div>"
      ],
      "text/plain": [
       "Empty DataFrame\n",
       "Columns: [User_ID, Cust_name, Product_ID, Gender, Age Group, Age, Marital_Status, State, Zone, Occupation, Product_Category, Orders, Amount, Status, unnamed1]\n",
       "Index: []"
      ]
     },
     "execution_count": 11,
     "metadata": {},
     "output_type": "execute_result"
    }
   ],
   "source": [
    "### Filtering out the duplicate values...\n",
    "df=df[~df.duplicated()] ### Complement of the Duplicate values..\n",
    "df[df.duplicated()]"
   ]
  },
  {
   "cell_type": "code",
   "execution_count": 12,
   "id": "98ba96e9-7cd6-4f9e-a91d-a52aae884fa6",
   "metadata": {},
   "outputs": [
    {
     "data": {
      "text/plain": [
       "dtype('O')"
      ]
     },
     "execution_count": 12,
     "metadata": {},
     "output_type": "execute_result"
    }
   ],
   "source": [
    "df['Amount'].dtype"
   ]
  },
  {
   "cell_type": "code",
   "execution_count": 13,
   "id": "c3b2b68d-692e-4f78-99b6-f26b6554f729",
   "metadata": {},
   "outputs": [
    {
     "data": {
      "text/plain": [
       "array(['23952', '23934', '23924', ..., '125621259', '876021246', 'abcde'],\n",
       "      dtype=object)"
      ]
     },
     "execution_count": 13,
     "metadata": {},
     "output_type": "execute_result"
    }
   ],
   "source": [
    "df['Amount'].unique()"
   ]
  },
  {
   "cell_type": "code",
   "execution_count": 14,
   "id": "7d79ad21-81d0-472a-bc4d-ab5d31eb74a4",
   "metadata": {},
   "outputs": [
    {
     "data": {
      "text/plain": [
       "Orders\n",
       "2.0     2911\n",
       "1.0     2826\n",
       "4.0     2788\n",
       "3.0     2775\n",
       "40.0       1\n",
       "24.0       1\n",
       "Name: count, dtype: int64"
      ]
     },
     "execution_count": 14,
     "metadata": {},
     "output_type": "execute_result"
    }
   ],
   "source": [
    "df['Orders'].value_counts()"
   ]
  },
  {
   "cell_type": "code",
   "execution_count": 15,
   "id": "217c4bdf-254e-4f4b-874b-e2257ea10f73",
   "metadata": {},
   "outputs": [
    {
     "data": {
      "text/plain": [
       "array([ 1.,  3.,  2.,  4., nan, 40., 24.])"
      ]
     },
     "execution_count": 15,
     "metadata": {},
     "output_type": "execute_result"
    }
   ],
   "source": [
    "df['Orders'].unique()"
   ]
  },
  {
   "cell_type": "code",
   "execution_count": 16,
   "id": "35e7d9a9-1165-4f34-b1e4-37663a6c54f4",
   "metadata": {},
   "outputs": [
    {
     "data": {
      "text/plain": [
       "array(['Maharashtra', 'Andhra\\xa0Pradesh', 'Uttar Pradesh', 'Karnataka',\n",
       "       'Gujarat', 'Himachal Pradesh', 'Delhi', 'Madhya Pradesh',\n",
       "       'Jharkhand', 'Kerala', 'Nndhra\\xa0Pradesh', nan, 'Bihar',\n",
       "       'Rajasthan', 'Haryana', 'Uttarakhand', 'Telangana', 'Punjab'],\n",
       "      dtype=object)"
      ]
     },
     "execution_count": 16,
     "metadata": {},
     "output_type": "execute_result"
    }
   ],
   "source": [
    "df['State'].unique()"
   ]
  },
  {
   "cell_type": "code",
   "execution_count": 17,
   "id": "9bbf8e8d-9230-4424-b3af-34186f0b6ea4",
   "metadata": {},
   "outputs": [
    {
     "data": {
      "text/plain": [
       "State\n",
       "Uttar Pradesh       1950\n",
       "Maharashtra         1527\n",
       "Karnataka           1318\n",
       "Delhi               1124\n",
       "Madhya Pradesh       924\n",
       "Andhra Pradesh       813\n",
       "Himachal Pradesh     608\n",
       "Kerala               454\n",
       "Haryana              450\n",
       "Bihar                434\n",
       "Gujarat              429\n",
       "Jharkhand            380\n",
       "Uttarakhand          321\n",
       "Rajasthan            232\n",
       "Punjab               200\n",
       "Telangana            125\n",
       "Nndhra Pradesh         3\n",
       "Name: count, dtype: int64"
      ]
     },
     "execution_count": 17,
     "metadata": {},
     "output_type": "execute_result"
    }
   ],
   "source": [
    "df['State'].value_counts()"
   ]
  },
  {
   "cell_type": "code",
   "execution_count": 18,
   "id": "cbe99bde-922c-4c15-8c75-604672868fab",
   "metadata": {},
   "outputs": [
    {
     "data": {
      "text/plain": [
       "13"
      ]
     },
     "execution_count": 18,
     "metadata": {},
     "output_type": "execute_result"
    }
   ],
   "source": [
    "df['State'].isnull().sum()"
   ]
  },
  {
   "cell_type": "code",
   "execution_count": 19,
   "id": "6441f8d8-f274-4853-b99d-c27b7b4aeb9e",
   "metadata": {},
   "outputs": [
    {
     "data": {
      "text/plain": [
       "11"
      ]
     },
     "execution_count": 19,
     "metadata": {},
     "output_type": "execute_result"
    }
   ],
   "source": [
    "df['Zone'].isnull().sum()"
   ]
  },
  {
   "cell_type": "code",
   "execution_count": 20,
   "id": "2dbb00d0-da8a-4ce2-ade5-1070dc2c9083",
   "metadata": {},
   "outputs": [
    {
     "data": {
      "text/plain": [
       "array(['Western', 'Southern', 'Central', 'Northern', 'Zentral', 'Eastern',\n",
       "       nan], dtype=object)"
      ]
     },
     "execution_count": 20,
     "metadata": {},
     "output_type": "execute_result"
    }
   ],
   "source": [
    "df['Zone'].unique()"
   ]
  },
  {
   "cell_type": "code",
   "execution_count": 21,
   "id": "4d38e85a-908c-4812-a7aa-cf3806083977",
   "metadata": {},
   "outputs": [
    {
     "data": {
      "text/plain": [
       "4"
      ]
     },
     "execution_count": 21,
     "metadata": {},
     "output_type": "execute_result"
    }
   ],
   "source": [
    "df['Product_ID'].isnull().sum()"
   ]
  },
  {
   "cell_type": "code",
   "execution_count": 22,
   "id": "61742f09-c5b7-4a9c-a697-5b862d1044b9",
   "metadata": {},
   "outputs": [
    {
     "data": {
      "text/plain": [
       "6"
      ]
     },
     "execution_count": 22,
     "metadata": {},
     "output_type": "execute_result"
    }
   ],
   "source": [
    "df['Marital_Status'].isna().sum()"
   ]
  },
  {
   "cell_type": "code",
   "execution_count": 23,
   "id": "ece18737-7f7c-4386-95fb-ec075f34d2c8",
   "metadata": {},
   "outputs": [
    {
     "data": {
      "text/plain": [
       "11"
      ]
     },
     "execution_count": 23,
     "metadata": {},
     "output_type": "execute_result"
    }
   ],
   "source": [
    "df['Age'].isna().sum()"
   ]
  },
  {
   "cell_type": "code",
   "execution_count": 24,
   "id": "f4181ddc-007d-4d2a-b9f9-de606aab0d31",
   "metadata": {},
   "outputs": [
    {
     "data": {
      "text/plain": [
       "array(['28', '35', '16', '25', '61', nan, '46', '24', '48', '29', '54',\n",
       "       '19', '30', '53', '83', '33', '40', '39', '20', '32', '36', '55',\n",
       "       '27', '72', '45', '43', '47', '22', '34', '52', '18', '21', '38',\n",
       "       '37', '23', '49', '42', '50', '31', '44', '26', '41', '66', '15',\n",
       "       '51', '77', '87', '79', '71', '88', '58', '82', '62', '92', '12',\n",
       "       '63', '17', '13', '67', '90', '56', '75', '81', '64', '73', '84',\n",
       "       '14', '76', '86', '89', '68', '91', '85', '70', '80', '65', '74',\n",
       "       '69', '78', '57', '60', '59', 'Age'], dtype=object)"
      ]
     },
     "execution_count": 24,
     "metadata": {},
     "output_type": "execute_result"
    }
   ],
   "source": [
    "df['Age'].unique()"
   ]
  },
  {
   "cell_type": "code",
   "execution_count": 25,
   "id": "75d2022e-7fee-430d-a2fd-b7989f965274",
   "metadata": {},
   "outputs": [
    {
     "data": {
      "text/plain": [
       "Age\n",
       "30     522\n",
       "26     493\n",
       "28     459\n",
       "29     454\n",
       "31     448\n",
       "      ... \n",
       "59       7\n",
       "92       7\n",
       "70       7\n",
       "Age      7\n",
       "62       5\n",
       "Name: count, Length: 82, dtype: int64"
      ]
     },
     "execution_count": 25,
     "metadata": {},
     "output_type": "execute_result"
    }
   ],
   "source": [
    "df['Age'].value_counts()"
   ]
  },
  {
   "cell_type": "code",
   "execution_count": 26,
   "id": "17401f78-97b1-458f-8fd0-d46449e3ed87",
   "metadata": {},
   "outputs": [
    {
     "data": {
      "text/plain": [
       "Age Group\n",
       "26-35       4557\n",
       "36-45       2301\n",
       "18-25       1880\n",
       "46-50        995\n",
       "51-55        835\n",
       "55+          429\n",
       "0-17         297\n",
       "low-high       5\n",
       "Name: count, dtype: int64"
      ]
     },
     "execution_count": 26,
     "metadata": {},
     "output_type": "execute_result"
    }
   ],
   "source": [
    "df['Age Group'].value_counts()"
   ]
  },
  {
   "cell_type": "code",
   "execution_count": 27,
   "id": "c6c759bd-d3eb-4756-90ed-fa9cf0264e5f",
   "metadata": {},
   "outputs": [
    {
     "data": {
      "text/plain": [
       "array(['Auto', nan, 'Hand & Power Tools', 'Stationery', 'Tupperware',\n",
       "       'Footwear & Shoes', 'Furniture', 'Food', 'Games & Toys',\n",
       "       'Sports Products', 'Books', 'Electronics & Gadgets', 'Decor',\n",
       "       'Clothing & Apparel', 'Beauty', 'Household items', 'Pet Care',\n",
       "       'Veterinary', 'Office'], dtype=object)"
      ]
     },
     "execution_count": 27,
     "metadata": {},
     "output_type": "execute_result"
    }
   ],
   "source": [
    "df['Product_Category'].unique()"
   ]
  },
  {
   "cell_type": "markdown",
   "id": "ad6046e3-f5ca-4b01-979f-f3b224eb34ae",
   "metadata": {},
   "source": [
    "### Data Profiling \n",
    "1. -Need to change the Data type from Object to Integer.(Amount Col)\n",
    "   -The rows corresponding to the Null values should be Dropped..\n",
    "   -Need to Drop the rows corresponding to 'Abcde'\n",
    "  \n",
    "2. Dropping the No Data containing Columns..(** Status and unnamed1**)\n",
    "3. Dropping or Removing the NaN Values from Orders Col..\n",
    "  -Outliers should be removed..\n",
    "  \n",
    "4. In State columns\n",
    "  - Andhra\\xa0Pradesh,Nndhra\\xa0Prades should be In Correct Spelling \n",
    "   and replaced both of them to Andhra Pradesh..\n",
    "  - Drop the Rows that is having Null values..\n",
    "\n",
    "5. Zone \"Zentral\" Should be replaced by Central..\n",
    "6. Product ID that is having the NaN value should be Dropped...\n",
    "7. **Marital Status**\n",
    "   - Data Type Should be Object convert it from Float to Object\n",
    "   - Fill the Null Values with mode\n",
    "   ** Will creat a new column where **\n",
    "   - '1' can be replace with Married\n",
    "   - '0' Can be replace with Unmarried\n",
    "8. Age column\n",
    "   -replace age data value to the mode and also null values tooo\n",
    "   -Data type should be change to object from numeric\n",
    "9. Age Group\n",
    "    -Replacing Age value low- hight with mode\n",
    "    -Null values also replaced by Mode\n",
    "10. Product Category\n",
    "    - Null values should be dropped..\n",
    "11. Occupation\n",
    "    -Removing the Null values with Mode..\n",
    "12. Gender\n",
    "    -Replacing the Null values with the Mode"
   ]
  },
  {
   "cell_type": "markdown",
   "id": "eda1dde7-a7d2-4bdd-b0dc-aad0a8dbd6b4",
   "metadata": {},
   "source": [
    "### Data Cleaning\n",
    "Statusand Unname Dropping \n"
   ]
  },
  {
   "cell_type": "code",
   "execution_count": 28,
   "id": "5b8604c5-ca24-45a8-b7a5-f490222f4396",
   "metadata": {
    "scrolled": true
   },
   "outputs": [
    {
     "data": {
      "text/html": [
       "<div>\n",
       "<style scoped>\n",
       "    .dataframe tbody tr th:only-of-type {\n",
       "        vertical-align: middle;\n",
       "    }\n",
       "\n",
       "    .dataframe tbody tr th {\n",
       "        vertical-align: top;\n",
       "    }\n",
       "\n",
       "    .dataframe thead th {\n",
       "        text-align: right;\n",
       "    }\n",
       "</style>\n",
       "<table border=\"1\" class=\"dataframe\">\n",
       "  <thead>\n",
       "    <tr style=\"text-align: right;\">\n",
       "      <th></th>\n",
       "      <th>User_ID</th>\n",
       "      <th>Cust_name</th>\n",
       "      <th>Product_ID</th>\n",
       "      <th>Gender</th>\n",
       "      <th>Age Group</th>\n",
       "      <th>Age</th>\n",
       "      <th>Marital_Status</th>\n",
       "      <th>State</th>\n",
       "      <th>Zone</th>\n",
       "      <th>Occupation</th>\n",
       "      <th>Product_Category</th>\n",
       "      <th>Orders</th>\n",
       "      <th>Amount</th>\n",
       "    </tr>\n",
       "  </thead>\n",
       "  <tbody>\n",
       "    <tr>\n",
       "      <th>0</th>\n",
       "      <td>1002903.0</td>\n",
       "      <td>Sanskriti</td>\n",
       "      <td>P00125942</td>\n",
       "      <td>F</td>\n",
       "      <td>26-35</td>\n",
       "      <td>28</td>\n",
       "      <td>0.0</td>\n",
       "      <td>Maharashtra</td>\n",
       "      <td>Western</td>\n",
       "      <td>Healthcare</td>\n",
       "      <td>Auto</td>\n",
       "      <td>1.0</td>\n",
       "      <td>23952</td>\n",
       "    </tr>\n",
       "    <tr>\n",
       "      <th>1</th>\n",
       "      <td>1000732.0</td>\n",
       "      <td>Kartik</td>\n",
       "      <td>P00110942</td>\n",
       "      <td>F</td>\n",
       "      <td>26-35</td>\n",
       "      <td>35</td>\n",
       "      <td>1.0</td>\n",
       "      <td>Andhra Pradesh</td>\n",
       "      <td>Southern</td>\n",
       "      <td>Govt</td>\n",
       "      <td>Auto</td>\n",
       "      <td>3.0</td>\n",
       "      <td>23934</td>\n",
       "    </tr>\n",
       "  </tbody>\n",
       "</table>\n",
       "</div>"
      ],
      "text/plain": [
       "     User_ID  Cust_name Product_ID Gender Age Group Age  Marital_Status  \\\n",
       "0  1002903.0  Sanskriti  P00125942      F     26-35  28             0.0   \n",
       "1  1000732.0     Kartik  P00110942      F     26-35  35             1.0   \n",
       "\n",
       "            State      Zone  Occupation Product_Category  Orders Amount  \n",
       "0     Maharashtra   Western  Healthcare             Auto     1.0  23952  \n",
       "1  Andhra Pradesh  Southern        Govt             Auto     3.0  23934  "
      ]
     },
     "execution_count": 28,
     "metadata": {},
     "output_type": "execute_result"
    }
   ],
   "source": [
    "df.drop(['Status','unnamed1'],axis=1,inplace = True)\n",
    "df.head(2)"
   ]
  },
  {
   "cell_type": "code",
   "execution_count": 29,
   "id": "a783ac01-7afe-4630-a9f5-054987ad30f1",
   "metadata": {},
   "outputs": [],
   "source": [
    "### changing the data type of amount columns..\n",
    "df['Amount']=pd.to_numeric(df['Amount'],errors='coerce') \n",
    "## coerce convert the unsuported values into null values.."
   ]
  },
  {
   "cell_type": "code",
   "execution_count": 30,
   "id": "0a996aa7-6038-4fe0-bf02-70cce79a30e8",
   "metadata": {},
   "outputs": [
    {
     "data": {
      "text/plain": [
       "17"
      ]
     },
     "execution_count": 30,
     "metadata": {},
     "output_type": "execute_result"
    }
   ],
   "source": [
    "## Dropping rows corresponding to null values in the col Amount,Orders,State,Zone,Product_ID,,Product Category\n",
    "df['Amount'].isnull().sum()\n"
   ]
  },
  {
   "cell_type": "code",
   "execution_count": 31,
   "id": "31fbfd92-5398-40a2-b8d8-9dbafaff3df9",
   "metadata": {},
   "outputs": [],
   "source": [
    "## Dropping rows corresponding to null values in the col Amount,Orders,State,Zone,Product_ID,,Product Category\n",
    "df.dropna(subset=['Amount','Orders','State','Zone','Product_ID','Product_Category'],inplace=True)\n"
   ]
  },
  {
   "cell_type": "code",
   "execution_count": 32,
   "id": "c39f6f4d-aca3-4892-8502-9518bf366b55",
   "metadata": {},
   "outputs": [
    {
     "data": {
      "text/plain": [
       "User_ID             23\n",
       "Cust_name            0\n",
       "Product_ID           0\n",
       "Gender               2\n",
       "Age Group            5\n",
       "Age                  9\n",
       "Marital_Status       5\n",
       "State                0\n",
       "Zone                 0\n",
       "Occupation           5\n",
       "Product_Category     0\n",
       "Orders               0\n",
       "Amount               0\n",
       "dtype: int64"
      ]
     },
     "execution_count": 32,
     "metadata": {},
     "output_type": "execute_result"
    }
   ],
   "source": [
    "df.isna().sum()"
   ]
  },
  {
   "cell_type": "markdown",
   "id": "852ba197-041d-4dab-9620-50e0eda2c45a",
   "metadata": {},
   "source": [
    "### State and Zone\n",
    "-replacing the typo"
   ]
  },
  {
   "cell_type": "code",
   "execution_count": 33,
   "id": "0b55ce8c-a782-48bc-937c-f6b7371493dc",
   "metadata": {},
   "outputs": [],
   "source": [
    "\n",
    "# df['State']=df['State'].str.replace('Andhra\\xa0Pradesh','Andhra Pradesh')\n",
    "# df['State']=df['State'].str.replace('Nndhra\\xa0Pradesh','Andhra Pradesh')\n",
    "df['Zone']= df['Zone'].str.replace('Zentral','Central')"
   ]
  },
  {
   "cell_type": "code",
   "execution_count": 34,
   "id": "77e17caa-97f9-4db0-9c2b-f5dacae60d3f",
   "metadata": {},
   "outputs": [
    {
     "data": {
      "text/plain": [
       "array(['Western', 'Southern', 'Central', 'Northern', 'Eastern'],\n",
       "      dtype=object)"
      ]
     },
     "execution_count": 34,
     "metadata": {},
     "output_type": "execute_result"
    }
   ],
   "source": [
    "df['Zone'].unique()"
   ]
  },
  {
   "cell_type": "code",
   "execution_count": 35,
   "id": "02412133-e082-44ee-93c6-41fe7e2eaba8",
   "metadata": {},
   "outputs": [
    {
     "data": {
      "text/plain": [
       "array(['Maharashtra', 'Andhra\\xa0Pradesh', 'Uttar Pradesh', 'Karnataka',\n",
       "       'Gujarat', 'Himachal Pradesh', 'Delhi', 'Jharkhand', 'Kerala',\n",
       "       'Nndhra\\xa0Pradesh', 'Madhya Pradesh', 'Bihar', 'Rajasthan',\n",
       "       'Haryana', 'Uttarakhand', 'Telangana', 'Punjab'], dtype=object)"
      ]
     },
     "execution_count": 35,
     "metadata": {},
     "output_type": "execute_result"
    }
   ],
   "source": [
    "df['State'].unique()"
   ]
  },
  {
   "cell_type": "markdown",
   "id": "1e977c1d-123d-47b7-b7eb-5ec75bd05866",
   "metadata": {},
   "source": [
    "***Marital Status Handled...***"
   ]
  },
  {
   "cell_type": "code",
   "execution_count": 36,
   "id": "19618225-09a9-48c8-a054-3606dc2050c9",
   "metadata": {},
   "outputs": [
    {
     "data": {
      "text/plain": [
       "0.0"
      ]
     },
     "execution_count": 36,
     "metadata": {},
     "output_type": "execute_result"
    }
   ],
   "source": [
    "#### Replacing the Marital Value with mode\n",
    "marital_status_mode = df['Marital_Status'].mode()[0]\n",
    "marital_status_mode"
   ]
  },
  {
   "cell_type": "code",
   "execution_count": 37,
   "id": "9ad64e33-7f8d-4030-b79e-1ad244e1b2e0",
   "metadata": {},
   "outputs": [
    {
     "data": {
      "text/plain": [
       "5"
      ]
     },
     "execution_count": 37,
     "metadata": {},
     "output_type": "execute_result"
    }
   ],
   "source": [
    "df['Marital_Status'].isna().sum()"
   ]
  },
  {
   "cell_type": "code",
   "execution_count": 38,
   "id": "84125833-373e-45dc-8e31-27848468f199",
   "metadata": {},
   "outputs": [],
   "source": [
    "### Creating a new col with Marital Status\n",
    "df['marraige_status'] = df['Marital_Status'].apply(lambda x: 'Married' if(x ==1.) else 'Unmarried')"
   ]
  },
  {
   "cell_type": "code",
   "execution_count": 39,
   "id": "824f8c66-bc14-43e8-82d0-3becbc58e5c0",
   "metadata": {},
   "outputs": [
    {
     "data": {
      "text/html": [
       "<div>\n",
       "<style scoped>\n",
       "    .dataframe tbody tr th:only-of-type {\n",
       "        vertical-align: middle;\n",
       "    }\n",
       "\n",
       "    .dataframe tbody tr th {\n",
       "        vertical-align: top;\n",
       "    }\n",
       "\n",
       "    .dataframe thead th {\n",
       "        text-align: right;\n",
       "    }\n",
       "</style>\n",
       "<table border=\"1\" class=\"dataframe\">\n",
       "  <thead>\n",
       "    <tr style=\"text-align: right;\">\n",
       "      <th></th>\n",
       "      <th>User_ID</th>\n",
       "      <th>Cust_name</th>\n",
       "      <th>Product_ID</th>\n",
       "      <th>Gender</th>\n",
       "      <th>Age Group</th>\n",
       "      <th>Age</th>\n",
       "      <th>Marital_Status</th>\n",
       "      <th>State</th>\n",
       "      <th>Zone</th>\n",
       "      <th>Occupation</th>\n",
       "      <th>Product_Category</th>\n",
       "      <th>Orders</th>\n",
       "      <th>Amount</th>\n",
       "      <th>marraige_status</th>\n",
       "    </tr>\n",
       "  </thead>\n",
       "  <tbody>\n",
       "    <tr>\n",
       "      <th>0</th>\n",
       "      <td>1002903.0</td>\n",
       "      <td>Sanskriti</td>\n",
       "      <td>P00125942</td>\n",
       "      <td>F</td>\n",
       "      <td>26-35</td>\n",
       "      <td>28</td>\n",
       "      <td>0.0</td>\n",
       "      <td>Maharashtra</td>\n",
       "      <td>Western</td>\n",
       "      <td>Healthcare</td>\n",
       "      <td>Auto</td>\n",
       "      <td>1.0</td>\n",
       "      <td>23952.0</td>\n",
       "      <td>Unmarried</td>\n",
       "    </tr>\n",
       "    <tr>\n",
       "      <th>1</th>\n",
       "      <td>1000732.0</td>\n",
       "      <td>Kartik</td>\n",
       "      <td>P00110942</td>\n",
       "      <td>F</td>\n",
       "      <td>26-35</td>\n",
       "      <td>35</td>\n",
       "      <td>1.0</td>\n",
       "      <td>Andhra Pradesh</td>\n",
       "      <td>Southern</td>\n",
       "      <td>Govt</td>\n",
       "      <td>Auto</td>\n",
       "      <td>3.0</td>\n",
       "      <td>23934.0</td>\n",
       "      <td>Married</td>\n",
       "    </tr>\n",
       "    <tr>\n",
       "      <th>2</th>\n",
       "      <td>1001990.0</td>\n",
       "      <td>Bindu</td>\n",
       "      <td>P00118542</td>\n",
       "      <td>F</td>\n",
       "      <td>26-35</td>\n",
       "      <td>35</td>\n",
       "      <td>1.0</td>\n",
       "      <td>Uttar Pradesh</td>\n",
       "      <td>Central</td>\n",
       "      <td>Automobile</td>\n",
       "      <td>Auto</td>\n",
       "      <td>3.0</td>\n",
       "      <td>23924.0</td>\n",
       "      <td>Married</td>\n",
       "    </tr>\n",
       "    <tr>\n",
       "      <th>3</th>\n",
       "      <td>1001425.0</td>\n",
       "      <td>Sudevi</td>\n",
       "      <td>P00237842</td>\n",
       "      <td>M</td>\n",
       "      <td>0-17</td>\n",
       "      <td>16</td>\n",
       "      <td>0.0</td>\n",
       "      <td>Karnataka</td>\n",
       "      <td>Southern</td>\n",
       "      <td>Construction</td>\n",
       "      <td>Auto</td>\n",
       "      <td>2.0</td>\n",
       "      <td>23912.0</td>\n",
       "      <td>Unmarried</td>\n",
       "    </tr>\n",
       "    <tr>\n",
       "      <th>4</th>\n",
       "      <td>1000588.0</td>\n",
       "      <td>Joni</td>\n",
       "      <td>P00057942</td>\n",
       "      <td>M</td>\n",
       "      <td>26-35</td>\n",
       "      <td>28</td>\n",
       "      <td>1.0</td>\n",
       "      <td>Gujarat</td>\n",
       "      <td>Western</td>\n",
       "      <td>Food Processing</td>\n",
       "      <td>Auto</td>\n",
       "      <td>2.0</td>\n",
       "      <td>23877.0</td>\n",
       "      <td>Married</td>\n",
       "    </tr>\n",
       "  </tbody>\n",
       "</table>\n",
       "</div>"
      ],
      "text/plain": [
       "     User_ID  Cust_name Product_ID Gender Age Group Age  Marital_Status  \\\n",
       "0  1002903.0  Sanskriti  P00125942      F     26-35  28             0.0   \n",
       "1  1000732.0     Kartik  P00110942      F     26-35  35             1.0   \n",
       "2  1001990.0      Bindu  P00118542      F     26-35  35             1.0   \n",
       "3  1001425.0     Sudevi  P00237842      M      0-17  16             0.0   \n",
       "4  1000588.0       Joni  P00057942      M     26-35  28             1.0   \n",
       "\n",
       "            State      Zone       Occupation Product_Category  Orders  \\\n",
       "0     Maharashtra   Western       Healthcare             Auto     1.0   \n",
       "1  Andhra Pradesh  Southern             Govt             Auto     3.0   \n",
       "2   Uttar Pradesh   Central       Automobile             Auto     3.0   \n",
       "3       Karnataka  Southern     Construction             Auto     2.0   \n",
       "4         Gujarat   Western  Food Processing             Auto     2.0   \n",
       "\n",
       "    Amount marraige_status  \n",
       "0  23952.0       Unmarried  \n",
       "1  23934.0         Married  \n",
       "2  23924.0         Married  \n",
       "3  23912.0       Unmarried  \n",
       "4  23877.0         Married  "
      ]
     },
     "execution_count": 39,
     "metadata": {},
     "output_type": "execute_result"
    }
   ],
   "source": [
    "df.head(5)"
   ]
  },
  {
   "cell_type": "markdown",
   "id": "9307d948-39e6-4f32-aa36-1bc595828877",
   "metadata": {},
   "source": [
    "### Age "
   ]
  },
  {
   "cell_type": "code",
   "execution_count": 40,
   "id": "938f8a17-8ba4-4927-b10a-878046da4264",
   "metadata": {},
   "outputs": [],
   "source": [
    "## changing the data type from object to numeric \n",
    "df['Age']=pd.to_numeric(df['Age'],errors='coerce')"
   ]
  },
  {
   "cell_type": "code",
   "execution_count": 41,
   "id": "3270aced-31d9-43de-a117-1422b4820915",
   "metadata": {},
   "outputs": [],
   "source": [
    "### replace the null values with mode\n",
    "age_mode=df['Age'].mode()[0]\n",
    "df['Age']=df['Age'].fillna(age_mode)"
   ]
  },
  {
   "cell_type": "code",
   "execution_count": 42,
   "id": "30acef20-49c1-4b39-bad8-aaeb4cda3892",
   "metadata": {},
   "outputs": [
    {
     "data": {
      "text/plain": [
       "0"
      ]
     },
     "execution_count": 42,
     "metadata": {},
     "output_type": "execute_result"
    }
   ],
   "source": [
    "df['Age'].isna().sum()"
   ]
  },
  {
   "cell_type": "markdown",
   "id": "0da1fc84-a639-45a8-95f3-e2380291221d",
   "metadata": {},
   "source": [
    "### Age Group "
   ]
  },
  {
   "cell_type": "code",
   "execution_count": 43,
   "id": "ddfbdcc0-38df-4bf2-906b-17a72fc47762",
   "metadata": {},
   "outputs": [],
   "source": [
    "## replacing null value and typo with mode \n",
    "age_group_mode=df ['Age Group'].mode()[0]\n",
    "age_group_mode\n",
    "df['Age Group']=df['Age Group'].str.replace('low-high',age_group_mode)\n",
    "df['Age Group']=df['Age Group'].fillna(age_group_mode)\n"
   ]
  },
  {
   "cell_type": "markdown",
   "id": "9ddab0a6-056d-493c-8036-e713cc27c9c9",
   "metadata": {},
   "source": [
    "### Product Category Already Handled.."
   ]
  },
  {
   "cell_type": "markdown",
   "id": "a9e74ad8-a836-4921-82ff-d613e347ca32",
   "metadata": {},
   "source": [
    "## User ID  Gender and Occupation Handled....##"
   ]
  },
  {
   "cell_type": "code",
   "execution_count": 44,
   "id": "5b99df80-b2a7-4a3d-859a-d5cf6db5130d",
   "metadata": {},
   "outputs": [],
   "source": [
    "### Gender and Occupation and User ID\n",
    "Gender_mode = df['Gender'].mode()[0]\n",
    "Occupation_mode = df['Occupation'].mode()[0]\n",
    "UserID_mode = df['User_ID'].mode()[0]\n",
    "\n",
    "df['Gender']=df['Gender'].fillna(Gender_mode)\n",
    "df['Occupation']=df['Occupation'].fillna(Occupation_mode)\n",
    "df['User_ID']=df['User_ID'].fillna(UserID_mode)"
   ]
  },
  {
   "cell_type": "code",
   "execution_count": 45,
   "id": "51d750b9-f1a8-44dc-9297-07a804455507",
   "metadata": {},
   "outputs": [
    {
     "name": "stdout",
     "output_type": "stream",
     "text": [
      "<class 'pandas.core.frame.DataFrame'>\n",
      "Index: 11254 entries, 0 to 11340\n",
      "Data columns (total 14 columns):\n",
      " #   Column            Non-Null Count  Dtype  \n",
      "---  ------            --------------  -----  \n",
      " 0   User_ID           11254 non-null  float64\n",
      " 1   Cust_name         11254 non-null  object \n",
      " 2   Product_ID        11254 non-null  object \n",
      " 3   Gender            11254 non-null  object \n",
      " 4   Age Group         11254 non-null  object \n",
      " 5   Age               11254 non-null  float64\n",
      " 6   Marital_Status    11249 non-null  float64\n",
      " 7   State             11254 non-null  object \n",
      " 8   Zone              11254 non-null  object \n",
      " 9   Occupation        11254 non-null  object \n",
      " 10  Product_Category  11254 non-null  object \n",
      " 11  Orders            11254 non-null  float64\n",
      " 12  Amount            11254 non-null  float64\n",
      " 13  marraige_status   11254 non-null  object \n",
      "dtypes: float64(5), object(9)\n",
      "memory usage: 1.3+ MB\n"
     ]
    }
   ],
   "source": [
    "df.info()"
   ]
  },
  {
   "cell_type": "code",
   "execution_count": 46,
   "id": "b9bc4a57-31cb-4074-b443-eac743586d6e",
   "metadata": {},
   "outputs": [
    {
     "data": {
      "text/plain": [
       "User_ID             0\n",
       "Cust_name           0\n",
       "Product_ID          0\n",
       "Gender              0\n",
       "Age Group           0\n",
       "Age                 0\n",
       "Marital_Status      5\n",
       "State               0\n",
       "Zone                0\n",
       "Occupation          0\n",
       "Product_Category    0\n",
       "Orders              0\n",
       "Amount              0\n",
       "marraige_status     0\n",
       "dtype: int64"
      ]
     },
     "execution_count": 46,
     "metadata": {},
     "output_type": "execute_result"
    }
   ],
   "source": [
    "df.isna().sum()"
   ]
  },
  {
   "cell_type": "code",
   "execution_count": 47,
   "id": "1ba04728-5a8c-44fd-8b5d-3165d3cb74d4",
   "metadata": {},
   "outputs": [
    {
     "data": {
      "text/plain": [
       "Index(['User_ID', 'Cust_name', 'Product_ID', 'Gender', 'Age Group', 'Age',\n",
       "       'Marital_Status', 'State', 'Zone', 'Occupation', 'Product_Category',\n",
       "       'Orders', 'Amount', 'marraige_status'],\n",
       "      dtype='object')"
      ]
     },
     "execution_count": 47,
     "metadata": {},
     "output_type": "execute_result"
    }
   ],
   "source": [
    "# All Columns \n",
    "all_columns=df.columns\n",
    "all_columns"
   ]
  },
  {
   "cell_type": "markdown",
   "id": "8944dcaa-e347-4a59-bb5d-dea938d19d44",
   "metadata": {},
   "source": [
    "## Detecting the Outliers and Removal "
   ]
  },
  {
   "cell_type": "code",
   "execution_count": 48,
   "id": "86594df5-325a-4cea-b106-b353eed51363",
   "metadata": {},
   "outputs": [
    {
     "data": {
      "text/html": [
       "<div>\n",
       "<style scoped>\n",
       "    .dataframe tbody tr th:only-of-type {\n",
       "        vertical-align: middle;\n",
       "    }\n",
       "\n",
       "    .dataframe tbody tr th {\n",
       "        vertical-align: top;\n",
       "    }\n",
       "\n",
       "    .dataframe thead th {\n",
       "        text-align: right;\n",
       "    }\n",
       "</style>\n",
       "<table border=\"1\" class=\"dataframe\">\n",
       "  <thead>\n",
       "    <tr style=\"text-align: right;\">\n",
       "      <th></th>\n",
       "      <th>User_ID</th>\n",
       "      <th>Age</th>\n",
       "      <th>Marital_Status</th>\n",
       "      <th>Orders</th>\n",
       "      <th>Amount</th>\n",
       "    </tr>\n",
       "  </thead>\n",
       "  <tbody>\n",
       "    <tr>\n",
       "      <th>count</th>\n",
       "      <td>1.125400e+04</td>\n",
       "      <td>11254.000000</td>\n",
       "      <td>11249.000000</td>\n",
       "      <td>11254.000000</td>\n",
       "      <td>1.125400e+04</td>\n",
       "    </tr>\n",
       "    <tr>\n",
       "      <th>mean</th>\n",
       "      <td>1.013664e+06</td>\n",
       "      <td>35.424382</td>\n",
       "      <td>0.419948</td>\n",
       "      <td>2.494135</td>\n",
       "      <td>1.916697e+05</td>\n",
       "    </tr>\n",
       "    <tr>\n",
       "      <th>std</th>\n",
       "      <td>3.263686e+05</td>\n",
       "      <td>12.753259</td>\n",
       "      <td>0.493572</td>\n",
       "      <td>1.186925</td>\n",
       "      <td>1.072906e+07</td>\n",
       "    </tr>\n",
       "    <tr>\n",
       "      <th>min</th>\n",
       "      <td>1.000001e+06</td>\n",
       "      <td>12.000000</td>\n",
       "      <td>0.000000</td>\n",
       "      <td>1.000000</td>\n",
       "      <td>1.880000e+02</td>\n",
       "    </tr>\n",
       "    <tr>\n",
       "      <th>25%</th>\n",
       "      <td>1.001496e+06</td>\n",
       "      <td>27.000000</td>\n",
       "      <td>0.000000</td>\n",
       "      <td>2.000000</td>\n",
       "      <td>5.445000e+03</td>\n",
       "    </tr>\n",
       "    <tr>\n",
       "      <th>50%</th>\n",
       "      <td>1.003064e+06</td>\n",
       "      <td>33.000000</td>\n",
       "      <td>0.000000</td>\n",
       "      <td>2.000000</td>\n",
       "      <td>8.113000e+03</td>\n",
       "    </tr>\n",
       "    <tr>\n",
       "      <th>75%</th>\n",
       "      <td>1.004430e+06</td>\n",
       "      <td>43.000000</td>\n",
       "      <td>1.000000</td>\n",
       "      <td>3.000000</td>\n",
       "      <td>1.269900e+04</td>\n",
       "    </tr>\n",
       "    <tr>\n",
       "      <th>max</th>\n",
       "      <td>1.100505e+07</td>\n",
       "      <td>92.000000</td>\n",
       "      <td>1.000000</td>\n",
       "      <td>40.000000</td>\n",
       "      <td>8.760212e+08</td>\n",
       "    </tr>\n",
       "  </tbody>\n",
       "</table>\n",
       "</div>"
      ],
      "text/plain": [
       "            User_ID           Age  Marital_Status        Orders        Amount\n",
       "count  1.125400e+04  11254.000000    11249.000000  11254.000000  1.125400e+04\n",
       "mean   1.013664e+06     35.424382        0.419948      2.494135  1.916697e+05\n",
       "std    3.263686e+05     12.753259        0.493572      1.186925  1.072906e+07\n",
       "min    1.000001e+06     12.000000        0.000000      1.000000  1.880000e+02\n",
       "25%    1.001496e+06     27.000000        0.000000      2.000000  5.445000e+03\n",
       "50%    1.003064e+06     33.000000        0.000000      2.000000  8.113000e+03\n",
       "75%    1.004430e+06     43.000000        1.000000      3.000000  1.269900e+04\n",
       "max    1.100505e+07     92.000000        1.000000     40.000000  8.760212e+08"
      ]
     },
     "execution_count": 48,
     "metadata": {},
     "output_type": "execute_result"
    }
   ],
   "source": [
    "df.describe()"
   ]
  },
  {
   "cell_type": "code",
   "execution_count": 49,
   "id": "150979a2-5966-4e1d-a729-2326fe927fa4",
   "metadata": {},
   "outputs": [],
   "source": [
    "## Visualisation Of Outliers"
   ]
  },
  {
   "cell_type": "code",
   "execution_count": 50,
   "id": "c3493bd3-1427-40b9-9fdd-3662c58831ac",
   "metadata": {},
   "outputs": [
    {
     "data": {
      "text/plain": [
       "Text(0.5, 1.0, \"Box Plot for 'Amount'\")"
      ]
     },
     "execution_count": 50,
     "metadata": {},
     "output_type": "execute_result"
    },
    {
     "data": {
      "image/png": "[encoded data removed]",
      "text/plain": [
       "<Figure size 1000x600 with 2 Axes>"
      ]
     },
     "metadata": {},
     "output_type": "display_data"
    }
   ],
   "source": [
    "fig,ax= plt.subplots(1,2,figsize=(10,6))\n",
    "sns.boxplot(data=df['Orders'],ax=ax[0])\n",
    "ax[0].set_title(\"Box Plot for 'Orders'\")\n",
    "sns.boxplot(data=df['Amount'],ax=ax[1])\n",
    "ax[1].set_title(\"Box Plot for 'Amount'\")"
   ]
  },
  {
   "cell_type": "code",
   "execution_count": 51,
   "id": "e2b85d91-0637-4322-b558-5edeb2832fb7",
   "metadata": {},
   "outputs": [],
   "source": [
    "### Removing the  outliers\n",
    "Q1_order = np.quantile(df['Orders'],0.25)\n",
    "Q3_order = np.quantile(df['Orders'],0.75)\n",
    "IQR_order = Q3_order-Q1_order\n",
    "# IQR_order\n",
    "lower_limit_order = Q1_order-1.5*IQR_order\n",
    "upper_limit_order = Q3_order+1.5*IQR_order"
   ]
  },
  {
   "cell_type": "code",
   "execution_count": 52,
   "id": "ca7e4be2-467a-4f05-8339-b40fcab2ef53",
   "metadata": {},
   "outputs": [
    {
     "name": "stdout",
     "output_type": "stream",
     "text": [
      "0.5\n",
      "4.5\n"
     ]
    }
   ],
   "source": [
    "print(lower_limit_order)\n",
    "print(upper_limit_order)"
   ]
  },
  {
   "cell_type": "code",
   "execution_count": 53,
   "id": "20253092-d83b-4b6b-a923-8f8c5896eb92",
   "metadata": {},
   "outputs": [],
   "source": [
    "### Removing the outliers \n",
    "df=df[(df['Orders']>lower_limit_order) & (df['Orders']<upper_limit_order)]\n"
   ]
  },
  {
   "cell_type": "code",
   "execution_count": 54,
   "id": "49e8c2ee-fec3-49ee-ac2e-48349e92f2de",
   "metadata": {},
   "outputs": [
    {
     "data": {
      "text/html": [
       "<div>\n",
       "<style scoped>\n",
       "    .dataframe tbody tr th:only-of-type {\n",
       "        vertical-align: middle;\n",
       "    }\n",
       "\n",
       "    .dataframe tbody tr th {\n",
       "        vertical-align: top;\n",
       "    }\n",
       "\n",
       "    .dataframe thead th {\n",
       "        text-align: right;\n",
       "    }\n",
       "</style>\n",
       "<table border=\"1\" class=\"dataframe\">\n",
       "  <thead>\n",
       "    <tr style=\"text-align: right;\">\n",
       "      <th></th>\n",
       "      <th>User_ID</th>\n",
       "      <th>Age</th>\n",
       "      <th>Marital_Status</th>\n",
       "      <th>Orders</th>\n",
       "      <th>Amount</th>\n",
       "    </tr>\n",
       "  </thead>\n",
       "  <tbody>\n",
       "    <tr>\n",
       "      <th>count</th>\n",
       "      <td>1.125200e+04</td>\n",
       "      <td>11252.000000</td>\n",
       "      <td>11247.000000</td>\n",
       "      <td>11252.000000</td>\n",
       "      <td>1.125200e+04</td>\n",
       "    </tr>\n",
       "    <tr>\n",
       "      <th>mean</th>\n",
       "      <td>1.011889e+06</td>\n",
       "      <td>35.423303</td>\n",
       "      <td>0.420023</td>\n",
       "      <td>2.488891</td>\n",
       "      <td>1.917000e+05</td>\n",
       "    </tr>\n",
       "    <tr>\n",
       "      <th>std</th>\n",
       "      <td>2.979871e+05</td>\n",
       "      <td>12.753743</td>\n",
       "      <td>0.493584</td>\n",
       "      <td>1.114844</td>\n",
       "      <td>1.073001e+07</td>\n",
       "    </tr>\n",
       "    <tr>\n",
       "      <th>min</th>\n",
       "      <td>1.000001e+06</td>\n",
       "      <td>12.000000</td>\n",
       "      <td>0.000000</td>\n",
       "      <td>1.000000</td>\n",
       "      <td>1.880000e+02</td>\n",
       "    </tr>\n",
       "    <tr>\n",
       "      <th>25%</th>\n",
       "      <td>1.001496e+06</td>\n",
       "      <td>27.000000</td>\n",
       "      <td>0.000000</td>\n",
       "      <td>2.000000</td>\n",
       "      <td>5.444750e+03</td>\n",
       "    </tr>\n",
       "    <tr>\n",
       "      <th>50%</th>\n",
       "      <td>1.003064e+06</td>\n",
       "      <td>33.000000</td>\n",
       "      <td>0.000000</td>\n",
       "      <td>2.000000</td>\n",
       "      <td>8.113000e+03</td>\n",
       "    </tr>\n",
       "    <tr>\n",
       "      <th>75%</th>\n",
       "      <td>1.004429e+06</td>\n",
       "      <td>43.000000</td>\n",
       "      <td>1.000000</td>\n",
       "      <td>3.000000</td>\n",
       "      <td>1.269900e+04</td>\n",
       "    </tr>\n",
       "    <tr>\n",
       "      <th>max</th>\n",
       "      <td>1.100505e+07</td>\n",
       "      <td>92.000000</td>\n",
       "      <td>1.000000</td>\n",
       "      <td>4.000000</td>\n",
       "      <td>8.760212e+08</td>\n",
       "    </tr>\n",
       "  </tbody>\n",
       "</table>\n",
       "</div>"
      ],
      "text/plain": [
       "            User_ID           Age  Marital_Status        Orders        Amount\n",
       "count  1.125200e+04  11252.000000    11247.000000  11252.000000  1.125200e+04\n",
       "mean   1.011889e+06     35.423303        0.420023      2.488891  1.917000e+05\n",
       "std    2.979871e+05     12.753743        0.493584      1.114844  1.073001e+07\n",
       "min    1.000001e+06     12.000000        0.000000      1.000000  1.880000e+02\n",
       "25%    1.001496e+06     27.000000        0.000000      2.000000  5.444750e+03\n",
       "50%    1.003064e+06     33.000000        0.000000      2.000000  8.113000e+03\n",
       "75%    1.004429e+06     43.000000        1.000000      3.000000  1.269900e+04\n",
       "max    1.100505e+07     92.000000        1.000000      4.000000  8.760212e+08"
      ]
     },
     "execution_count": 54,
     "metadata": {},
     "output_type": "execute_result"
    }
   ],
   "source": [
    "df.describe()"
   ]
  },
  {
   "cell_type": "markdown",
   "id": "994d2c0b-d42d-4eb4-a776-4b1d6a184086",
   "metadata": {},
   "source": [
    "Amount"
   ]
  },
  {
   "cell_type": "code",
   "execution_count": 55,
   "id": "d9c0db94-b8d4-4f88-b208-f44df615f303",
   "metadata": {},
   "outputs": [],
   "source": [
    "# Quartile\n",
    "Q1_amount = np.quantile(df['Amount'],0.25)\n",
    "Q3_amount = np.quantile(df['Amount'],0.75)\n",
    "IQR_amount = Q3_amount-Q1_amount\n",
    "# IQR_order\n",
    "lower_limit_amount = Q1_amount-1.5*IQR_amount\n",
    "upper_limit_amount = Q3_amount+1.5*IQR_amount"
   ]
  },
  {
   "cell_type": "code",
   "execution_count": 56,
   "id": "5ff545d0-d0f7-4b5d-a4bc-6dedb3277b35",
   "metadata": {},
   "outputs": [],
   "source": [
    "df=df[(df['Amount']>lower_limit_amount) & (df['Amount']<upper_limit_amount)]"
   ]
  },
  {
   "cell_type": "code",
   "execution_count": 57,
   "id": "239e91d5-8d8b-4b99-9613-8bc6baae678b",
   "metadata": {},
   "outputs": [
    {
     "data": {
      "text/html": [
       "<div>\n",
       "<style scoped>\n",
       "    .dataframe tbody tr th:only-of-type {\n",
       "        vertical-align: middle;\n",
       "    }\n",
       "\n",
       "    .dataframe tbody tr th {\n",
       "        vertical-align: top;\n",
       "    }\n",
       "\n",
       "    .dataframe thead th {\n",
       "        text-align: right;\n",
       "    }\n",
       "</style>\n",
       "<table border=\"1\" class=\"dataframe\">\n",
       "  <thead>\n",
       "    <tr style=\"text-align: right;\">\n",
       "      <th></th>\n",
       "      <th>User_ID</th>\n",
       "      <th>Age</th>\n",
       "      <th>Marital_Status</th>\n",
       "      <th>Orders</th>\n",
       "      <th>Amount</th>\n",
       "    </tr>\n",
       "  </thead>\n",
       "  <tbody>\n",
       "    <tr>\n",
       "      <th>count</th>\n",
       "      <td>1.123400e+04</td>\n",
       "      <td>11234.000000</td>\n",
       "      <td>11229.000000</td>\n",
       "      <td>11234.000000</td>\n",
       "      <td>11234.000000</td>\n",
       "    </tr>\n",
       "    <tr>\n",
       "      <th>mean</th>\n",
       "      <td>1.007453e+06</td>\n",
       "      <td>35.433772</td>\n",
       "      <td>0.419895</td>\n",
       "      <td>2.489496</td>\n",
       "      <td>9452.764638</td>\n",
       "    </tr>\n",
       "    <tr>\n",
       "      <th>std</th>\n",
       "      <td>2.109026e+05</td>\n",
       "      <td>12.759432</td>\n",
       "      <td>0.493563</td>\n",
       "      <td>1.114845</td>\n",
       "      <td>5213.784648</td>\n",
       "    </tr>\n",
       "    <tr>\n",
       "      <th>min</th>\n",
       "      <td>1.000001e+06</td>\n",
       "      <td>12.000000</td>\n",
       "      <td>0.000000</td>\n",
       "      <td>1.000000</td>\n",
       "      <td>188.000000</td>\n",
       "    </tr>\n",
       "    <tr>\n",
       "      <th>25%</th>\n",
       "      <td>1.001496e+06</td>\n",
       "      <td>27.000000</td>\n",
       "      <td>0.000000</td>\n",
       "      <td>2.000000</td>\n",
       "      <td>5443.000000</td>\n",
       "    </tr>\n",
       "    <tr>\n",
       "      <th>50%</th>\n",
       "      <td>1.003064e+06</td>\n",
       "      <td>33.000000</td>\n",
       "      <td>0.000000</td>\n",
       "      <td>2.000000</td>\n",
       "      <td>8109.500000</td>\n",
       "    </tr>\n",
       "    <tr>\n",
       "      <th>75%</th>\n",
       "      <td>1.004429e+06</td>\n",
       "      <td>43.000000</td>\n",
       "      <td>1.000000</td>\n",
       "      <td>3.000000</td>\n",
       "      <td>12681.500000</td>\n",
       "    </tr>\n",
       "    <tr>\n",
       "      <th>max</th>\n",
       "      <td>1.100173e+07</td>\n",
       "      <td>92.000000</td>\n",
       "      <td>1.000000</td>\n",
       "      <td>4.000000</td>\n",
       "      <td>23568.000000</td>\n",
       "    </tr>\n",
       "  </tbody>\n",
       "</table>\n",
       "</div>"
      ],
      "text/plain": [
       "            User_ID           Age  Marital_Status        Orders        Amount\n",
       "count  1.123400e+04  11234.000000    11229.000000  11234.000000  11234.000000\n",
       "mean   1.007453e+06     35.433772        0.419895      2.489496   9452.764638\n",
       "std    2.109026e+05     12.759432        0.493563      1.114845   5213.784648\n",
       "min    1.000001e+06     12.000000        0.000000      1.000000    188.000000\n",
       "25%    1.001496e+06     27.000000        0.000000      2.000000   5443.000000\n",
       "50%    1.003064e+06     33.000000        0.000000      2.000000   8109.500000\n",
       "75%    1.004429e+06     43.000000        1.000000      3.000000  12681.500000\n",
       "max    1.100173e+07     92.000000        1.000000      4.000000  23568.000000"
      ]
     },
     "execution_count": 57,
     "metadata": {},
     "output_type": "execute_result"
    }
   ],
   "source": [
    "df.describe()"
   ]
  },
  {
   "cell_type": "code",
   "execution_count": 58,
   "id": "38618a01-6525-4e02-8a67-8706963e3e1e",
   "metadata": {},
   "outputs": [],
   "source": [
    "df.to_csv(r\"C:\\Users\\abhay\\Desktop\\Python DS\\diwali_sales_cleaned.csv\")\n"
   ]
  },
  {
   "cell_type": "markdown",
   "id": "b001de32-a88f-4cae-9c2e-2bc4ad64062a",
   "metadata": {},
   "source": [
    "Data Visualisation \n"
   ]
  },
  {
   "cell_type": "markdown",
   "id": "c7629a22-54ea-4f5b-a67a-206570691744",
   "metadata": {},
   "source": [
    "## Exploratory Data Analysis"
   ]
  },
  {
   "cell_type": "markdown",
   "id": "4916f5b8-3835-4c23-ae5c-c6b4d49b6b9c",
   "metadata": {},
   "source": [
    "### Statistical Analysis"
   ]
  },
  {
   "cell_type": "code",
   "execution_count": 59,
   "id": "4a29cded-bc9c-409c-b4c2-ae9c4113ff01",
   "metadata": {},
   "outputs": [
    {
     "data": {
      "text/html": [
       "<div>\n",
       "<style scoped>\n",
       "    .dataframe tbody tr th:only-of-type {\n",
       "        vertical-align: middle;\n",
       "    }\n",
       "\n",
       "    .dataframe tbody tr th {\n",
       "        vertical-align: top;\n",
       "    }\n",
       "\n",
       "    .dataframe thead th {\n",
       "        text-align: right;\n",
       "    }\n",
       "</style>\n",
       "<table border=\"1\" class=\"dataframe\">\n",
       "  <thead>\n",
       "    <tr style=\"text-align: right;\">\n",
       "      <th></th>\n",
       "      <th>User_ID</th>\n",
       "      <th>Age</th>\n",
       "      <th>Marital_Status</th>\n",
       "      <th>Orders</th>\n",
       "      <th>Amount</th>\n",
       "    </tr>\n",
       "  </thead>\n",
       "  <tbody>\n",
       "    <tr>\n",
       "      <th>count</th>\n",
       "      <td>1.123400e+04</td>\n",
       "      <td>11234.000000</td>\n",
       "      <td>11229.000000</td>\n",
       "      <td>11234.000000</td>\n",
       "      <td>11234.000000</td>\n",
       "    </tr>\n",
       "    <tr>\n",
       "      <th>mean</th>\n",
       "      <td>1.007453e+06</td>\n",
       "      <td>35.433772</td>\n",
       "      <td>0.419895</td>\n",
       "      <td>2.489496</td>\n",
       "      <td>9452.764638</td>\n",
       "    </tr>\n",
       "    <tr>\n",
       "      <th>std</th>\n",
       "      <td>2.109026e+05</td>\n",
       "      <td>12.759432</td>\n",
       "      <td>0.493563</td>\n",
       "      <td>1.114845</td>\n",
       "      <td>5213.784648</td>\n",
       "    </tr>\n",
       "    <tr>\n",
       "      <th>min</th>\n",
       "      <td>1.000001e+06</td>\n",
       "      <td>12.000000</td>\n",
       "      <td>0.000000</td>\n",
       "      <td>1.000000</td>\n",
       "      <td>188.000000</td>\n",
       "    </tr>\n",
       "    <tr>\n",
       "      <th>25%</th>\n",
       "      <td>1.001496e+06</td>\n",
       "      <td>27.000000</td>\n",
       "      <td>0.000000</td>\n",
       "      <td>2.000000</td>\n",
       "      <td>5443.000000</td>\n",
       "    </tr>\n",
       "    <tr>\n",
       "      <th>50%</th>\n",
       "      <td>1.003064e+06</td>\n",
       "      <td>33.000000</td>\n",
       "      <td>0.000000</td>\n",
       "      <td>2.000000</td>\n",
       "      <td>8109.500000</td>\n",
       "    </tr>\n",
       "    <tr>\n",
       "      <th>75%</th>\n",
       "      <td>1.004429e+06</td>\n",
       "      <td>43.000000</td>\n",
       "      <td>1.000000</td>\n",
       "      <td>3.000000</td>\n",
       "      <td>12681.500000</td>\n",
       "    </tr>\n",
       "    <tr>\n",
       "      <th>max</th>\n",
       "      <td>1.100173e+07</td>\n",
       "      <td>92.000000</td>\n",
       "      <td>1.000000</td>\n",
       "      <td>4.000000</td>\n",
       "      <td>23568.000000</td>\n",
       "    </tr>\n",
       "  </tbody>\n",
       "</table>\n",
       "</div>"
      ],
      "text/plain": [
       "            User_ID           Age  Marital_Status        Orders        Amount\n",
       "count  1.123400e+04  11234.000000    11229.000000  11234.000000  11234.000000\n",
       "mean   1.007453e+06     35.433772        0.419895      2.489496   9452.764638\n",
       "std    2.109026e+05     12.759432        0.493563      1.114845   5213.784648\n",
       "min    1.000001e+06     12.000000        0.000000      1.000000    188.000000\n",
       "25%    1.001496e+06     27.000000        0.000000      2.000000   5443.000000\n",
       "50%    1.003064e+06     33.000000        0.000000      2.000000   8109.500000\n",
       "75%    1.004429e+06     43.000000        1.000000      3.000000  12681.500000\n",
       "max    1.100173e+07     92.000000        1.000000      4.000000  23568.000000"
      ]
     },
     "execution_count": 59,
     "metadata": {},
     "output_type": "execute_result"
    }
   ],
   "source": [
    "df.describe()"
   ]
  },
  {
   "cell_type": "code",
   "execution_count": 60,
   "id": "77860c73-1064-454a-a06c-4e90d0cd37f7",
   "metadata": {},
   "outputs": [
    {
     "data": {
      "text/html": [
       "<div>\n",
       "<style scoped>\n",
       "    .dataframe tbody tr th:only-of-type {\n",
       "        vertical-align: middle;\n",
       "    }\n",
       "\n",
       "    .dataframe tbody tr th {\n",
       "        vertical-align: top;\n",
       "    }\n",
       "\n",
       "    .dataframe thead th {\n",
       "        text-align: right;\n",
       "    }\n",
       "</style>\n",
       "<table border=\"1\" class=\"dataframe\">\n",
       "  <thead>\n",
       "    <tr style=\"text-align: right;\">\n",
       "      <th></th>\n",
       "      <th>User_ID</th>\n",
       "      <th>Cust_name</th>\n",
       "      <th>Product_ID</th>\n",
       "      <th>Gender</th>\n",
       "      <th>Age Group</th>\n",
       "      <th>Age</th>\n",
       "      <th>Marital_Status</th>\n",
       "      <th>State</th>\n",
       "      <th>Zone</th>\n",
       "      <th>Occupation</th>\n",
       "      <th>Product_Category</th>\n",
       "      <th>Orders</th>\n",
       "      <th>Amount</th>\n",
       "      <th>marraige_status</th>\n",
       "    </tr>\n",
       "  </thead>\n",
       "  <tbody>\n",
       "    <tr>\n",
       "      <th>18</th>\n",
       "      <td>1001883.0</td>\n",
       "      <td>Praneet</td>\n",
       "      <td>P00029842</td>\n",
       "      <td>M</td>\n",
       "      <td>26-35</td>\n",
       "      <td>54.0</td>\n",
       "      <td>1.0</td>\n",
       "      <td>Uttar Pradesh</td>\n",
       "      <td>Central</td>\n",
       "      <td>Hospitality</td>\n",
       "      <td>Auto</td>\n",
       "      <td>1.0</td>\n",
       "      <td>23568.0</td>\n",
       "      <td>Married</td>\n",
       "    </tr>\n",
       "    <tr>\n",
       "      <th>19</th>\n",
       "      <td>1001883.0</td>\n",
       "      <td>Praneet</td>\n",
       "      <td>P00029842</td>\n",
       "      <td>M</td>\n",
       "      <td>26-35</td>\n",
       "      <td>54.0</td>\n",
       "      <td>1.0</td>\n",
       "      <td>Uttar Pradesh</td>\n",
       "      <td>Central</td>\n",
       "      <td>Hospitality</td>\n",
       "      <td>Auto</td>\n",
       "      <td>1.0</td>\n",
       "      <td>23568.0</td>\n",
       "      <td>Married</td>\n",
       "    </tr>\n",
       "  </tbody>\n",
       "</table>\n",
       "</div>"
      ],
      "text/plain": [
       "      User_ID Cust_name Product_ID Gender Age Group   Age  Marital_Status  \\\n",
       "18  1001883.0   Praneet  P00029842      M     26-35  54.0             1.0   \n",
       "19  1001883.0   Praneet  P00029842      M     26-35  54.0             1.0   \n",
       "\n",
       "            State     Zone   Occupation Product_Category  Orders   Amount  \\\n",
       "18  Uttar Pradesh  Central  Hospitality             Auto     1.0  23568.0   \n",
       "19  Uttar Pradesh  Central  Hospitality             Auto     1.0  23568.0   \n",
       "\n",
       "   marraige_status  \n",
       "18         Married  \n",
       "19         Married  "
      ]
     },
     "execution_count": 60,
     "metadata": {},
     "output_type": "execute_result"
    }
   ],
   "source": [
    "df.head(2)"
   ]
  },
  {
   "cell_type": "markdown",
   "id": "9a727dc3-eeb1-4203-bdbf-618359fd6fd1",
   "metadata": {},
   "source": [
    " Data Visualosation"
   ]
  },
  {
   "cell_type": "markdown",
   "id": "b3609fab-f211-4e3e-a373-09ab235feb6a",
   "metadata": {},
   "source": [
    "***Gender wise Analysis***"
   ]
  },
  {
   "cell_type": "code",
   "execution_count": 61,
   "id": "b8678c9d-aa35-4e25-8dea-611a7d6fea16",
   "metadata": {},
   "outputs": [
    {
     "name": "stdout",
     "output_type": "stream",
     "text": [
      "Gender wise order count: \n",
      "   Gender  Orders\n",
      "0      F    7835\n",
      "1      M    3399\n",
      "Gender wise Purchased power : \n",
      "   Gender       Amount\n",
      "0      F  74422989.94\n",
      "1      M  31769368.00\n"
     ]
    }
   ],
   "source": [
    "## Plot Data \n",
    "data_gender_count= df.groupby(['Gender'],as_index = False)['Orders'].count()\n",
    "print(\"Gender wise order count: \\n\",data_gender_count)\n",
    "\n",
    "data_gender_amount= df.groupby(['Gender'],as_index = False)['Amount'].sum()\n",
    "print(\"Gender wise Purchased power : \\n\",data_gender_amount)"
   ]
  },
  {
   "cell_type": "code",
   "execution_count": 62,
   "id": "b7fd1188-1940-4dc2-a898-d6168cdb5241",
   "metadata": {},
   "outputs": [
    {
     "data": {
      "image/png": "[encoded data removed]",
      "text/plain": [
       "<Figure size 2000x800 with 2 Axes>"
      ]
     },
     "metadata": {},
     "output_type": "display_data"
    }
   ],
   "source": [
    "### Plotting The Pie chart between male and female...\n",
    "fig, ax = plt.subplots(1,2 , figsize=(20, 8))\n",
    "\n",
    "ax[0].pie(x=data_gender_count['Orders'],\n",
    "          labels =data_gender_count['Orders'],autopct=\"%1.2f%%\")\n",
    "ax[0].set_title(\"Gender wise Order count\")\n",
    "\n",
    "# Create the bar plot\n",
    "sns.barplot(x='Gender', y='Amount', data=data_gender_amount,ax=ax[1])\n",
    "ax[1].set_title(\"Gender-wise Purchase Power\")\n",
    "plt.show()\n"
   ]
  },
  {
   "cell_type": "markdown",
   "id": "ac6fb49b-3287-4929-b1a6-9b130432ac91",
   "metadata": {},
   "source": [
    "#### Conclusion\n",
    "Females having more order and their purchase is also high..."
   ]
  },
  {
   "cell_type": "markdown",
   "id": "9f7a37d2-5723-4e05-9ce7-e96aed695e0d",
   "metadata": {},
   "source": [
    "## Martial Status Wise Analysis.."
   ]
  },
  {
   "cell_type": "code",
   "execution_count": 63,
   "id": "6a61d517-9117-4eca-83db-b3ebcd606301",
   "metadata": {},
   "outputs": [
    {
     "data": {
      "text/html": [
       "<div>\n",
       "<style scoped>\n",
       "    .dataframe tbody tr th:only-of-type {\n",
       "        vertical-align: middle;\n",
       "    }\n",
       "\n",
       "    .dataframe tbody tr th {\n",
       "        vertical-align: top;\n",
       "    }\n",
       "\n",
       "    .dataframe thead th {\n",
       "        text-align: right;\n",
       "    }\n",
       "</style>\n",
       "<table border=\"1\" class=\"dataframe\">\n",
       "  <thead>\n",
       "    <tr style=\"text-align: right;\">\n",
       "      <th></th>\n",
       "      <th>marraige_status</th>\n",
       "      <th>Amount</th>\n",
       "    </tr>\n",
       "  </thead>\n",
       "  <tbody>\n",
       "    <tr>\n",
       "      <th>0</th>\n",
       "      <td>Married</td>\n",
       "      <td>44003938.00</td>\n",
       "    </tr>\n",
       "    <tr>\n",
       "      <th>1</th>\n",
       "      <td>Unmarried</td>\n",
       "      <td>62188419.94</td>\n",
       "    </tr>\n",
       "  </tbody>\n",
       "</table>\n",
       "</div>"
      ],
      "text/plain": [
       "  marraige_status       Amount\n",
       "0         Married  44003938.00\n",
       "1       Unmarried  62188419.94"
      ]
     },
     "execution_count": 63,
     "metadata": {},
     "output_type": "execute_result"
    }
   ],
   "source": [
    "data_marraige_status_amount= df.groupby(['marraige_status'],as_index=False)['Amount'].sum()\n",
    "data_marraige_status_amount\n"
   ]
  },
  {
   "cell_type": "code",
   "execution_count": 64,
   "id": "f6270ae3-a2b1-40b0-b52e-58a1de4ff9aa",
   "metadata": {},
   "outputs": [
    {
     "data": {
      "image/png": "[encoded data removed]",
      "text/plain": [
       "<Figure size 2000x800 with 2 Axes>"
      ]
     },
     "metadata": {},
     "output_type": "display_data"
    }
   ],
   "source": [
    "#Plots \n",
    "fig ,ax = plt.subplots(1,2,figsize=(20,8))\n",
    "# Countplot\n",
    "sns.countplot(x='marraige_status',hue='Gender',data= df,ax=ax[0])\n",
    "ax[0].set_title(\"Order count - Marriage Status\")\n",
    "# Bar Plot for purchase power\n",
    "sns.barplot(y='marraige_status', x='Amount', orient='h',data=data_marraige_status_amount, ax=ax[1])\n",
    "ax[1].set_title(\"Purchase - Marriage Status\")\n",
    "plt.show()"
   ]
  },
  {
   "cell_type": "markdown",
   "id": "74c68a8d-23d4-4d4d-9288-fb8f9887b4a4",
   "metadata": {},
   "source": [
    "### Conclusion : Unmarried Females are Doing more orders then married females and married males.."
   ]
  },
  {
   "cell_type": "code",
   "execution_count": 65,
   "id": "4c94e50e-d0dc-4b50-a490-1d51963ba3b6",
   "metadata": {},
   "outputs": [
    {
     "data": {
      "text/html": [
       "<div>\n",
       "<style scoped>\n",
       "    .dataframe tbody tr th:only-of-type {\n",
       "        vertical-align: middle;\n",
       "    }\n",
       "\n",
       "    .dataframe tbody tr th {\n",
       "        vertical-align: top;\n",
       "    }\n",
       "\n",
       "    .dataframe thead th {\n",
       "        text-align: right;\n",
       "    }\n",
       "</style>\n",
       "<table border=\"1\" class=\"dataframe\">\n",
       "  <thead>\n",
       "    <tr style=\"text-align: right;\">\n",
       "      <th></th>\n",
       "      <th>User_ID</th>\n",
       "      <th>Cust_name</th>\n",
       "      <th>Product_ID</th>\n",
       "      <th>Gender</th>\n",
       "      <th>Age Group</th>\n",
       "      <th>Age</th>\n",
       "      <th>Marital_Status</th>\n",
       "      <th>State</th>\n",
       "      <th>Zone</th>\n",
       "      <th>Occupation</th>\n",
       "      <th>Product_Category</th>\n",
       "      <th>Orders</th>\n",
       "      <th>Amount</th>\n",
       "      <th>marraige_status</th>\n",
       "    </tr>\n",
       "  </thead>\n",
       "  <tbody>\n",
       "    <tr>\n",
       "      <th>18</th>\n",
       "      <td>1001883.0</td>\n",
       "      <td>Praneet</td>\n",
       "      <td>P00029842</td>\n",
       "      <td>M</td>\n",
       "      <td>26-35</td>\n",
       "      <td>54.0</td>\n",
       "      <td>1.0</td>\n",
       "      <td>Uttar Pradesh</td>\n",
       "      <td>Central</td>\n",
       "      <td>Hospitality</td>\n",
       "      <td>Auto</td>\n",
       "      <td>1.0</td>\n",
       "      <td>23568.0</td>\n",
       "      <td>Married</td>\n",
       "    </tr>\n",
       "    <tr>\n",
       "      <th>19</th>\n",
       "      <td>1001883.0</td>\n",
       "      <td>Praneet</td>\n",
       "      <td>P00029842</td>\n",
       "      <td>M</td>\n",
       "      <td>26-35</td>\n",
       "      <td>54.0</td>\n",
       "      <td>1.0</td>\n",
       "      <td>Uttar Pradesh</td>\n",
       "      <td>Central</td>\n",
       "      <td>Hospitality</td>\n",
       "      <td>Auto</td>\n",
       "      <td>1.0</td>\n",
       "      <td>23568.0</td>\n",
       "      <td>Married</td>\n",
       "    </tr>\n",
       "    <tr>\n",
       "      <th>20</th>\n",
       "      <td>1000113.0</td>\n",
       "      <td>Ellis</td>\n",
       "      <td>P00180642</td>\n",
       "      <td>F</td>\n",
       "      <td>26-35</td>\n",
       "      <td>19.0</td>\n",
       "      <td>1.0</td>\n",
       "      <td>Andhra Pradesh</td>\n",
       "      <td>Southern</td>\n",
       "      <td>Govt</td>\n",
       "      <td>Auto</td>\n",
       "      <td>4.0</td>\n",
       "      <td>23546.0</td>\n",
       "      <td>Married</td>\n",
       "    </tr>\n",
       "    <tr>\n",
       "      <th>21</th>\n",
       "      <td>1000416.0</td>\n",
       "      <td>Hrisheekesh</td>\n",
       "      <td>P00181842</td>\n",
       "      <td>F</td>\n",
       "      <td>26-35</td>\n",
       "      <td>46.0</td>\n",
       "      <td>1.0</td>\n",
       "      <td>Uttar Pradesh</td>\n",
       "      <td>Central</td>\n",
       "      <td>Banking</td>\n",
       "      <td>Auto</td>\n",
       "      <td>2.0</td>\n",
       "      <td>23525.0</td>\n",
       "      <td>Married</td>\n",
       "    </tr>\n",
       "    <tr>\n",
       "      <th>22</th>\n",
       "      <td>1005256.0</td>\n",
       "      <td>Grant</td>\n",
       "      <td>P00101742</td>\n",
       "      <td>F</td>\n",
       "      <td>26-35</td>\n",
       "      <td>30.0</td>\n",
       "      <td>0.0</td>\n",
       "      <td>Andhra Pradesh</td>\n",
       "      <td>Southern</td>\n",
       "      <td>IT Sector</td>\n",
       "      <td>Auto</td>\n",
       "      <td>1.0</td>\n",
       "      <td>23518.0</td>\n",
       "      <td>Unmarried</td>\n",
       "    </tr>\n",
       "  </tbody>\n",
       "</table>\n",
       "</div>"
      ],
      "text/plain": [
       "      User_ID    Cust_name Product_ID Gender Age Group   Age  Marital_Status  \\\n",
       "18  1001883.0      Praneet  P00029842      M     26-35  54.0             1.0   \n",
       "19  1001883.0      Praneet  P00029842      M     26-35  54.0             1.0   \n",
       "20  1000113.0        Ellis  P00180642      F     26-35  19.0             1.0   \n",
       "21  1000416.0  Hrisheekesh  P00181842      F     26-35  46.0             1.0   \n",
       "22  1005256.0        Grant  P00101742      F     26-35  30.0             0.0   \n",
       "\n",
       "             State      Zone   Occupation Product_Category  Orders   Amount  \\\n",
       "18   Uttar Pradesh   Central  Hospitality             Auto     1.0  23568.0   \n",
       "19   Uttar Pradesh   Central  Hospitality             Auto     1.0  23568.0   \n",
       "20  Andhra Pradesh  Southern         Govt             Auto     4.0  23546.0   \n",
       "21   Uttar Pradesh   Central      Banking             Auto     2.0  23525.0   \n",
       "22  Andhra Pradesh  Southern    IT Sector             Auto     1.0  23518.0   \n",
       "\n",
       "   marraige_status  \n",
       "18         Married  \n",
       "19         Married  \n",
       "20         Married  \n",
       "21         Married  \n",
       "22       Unmarried  "
      ]
     },
     "execution_count": 65,
     "metadata": {},
     "output_type": "execute_result"
    }
   ],
   "source": [
    "df.head()"
   ]
  },
  {
   "cell_type": "markdown",
   "id": "4771e9ef-1e79-4376-a003-d9cf9558a79d",
   "metadata": {},
   "source": [
    "Analysis Parameter \n",
    "Gender\n",
    "Marriage Status\n",
    "Age Group\n",
    "Product Category\n",
    "Stats\n",
    "Product ID\n",
    "Occupation \n"
   ]
  },
  {
   "cell_type": "code",
   "execution_count": 66,
   "id": "e50c2a50-3cf2-47de-a8fb-2724808fe652",
   "metadata": {},
   "outputs": [
    {
     "data": {
      "text/html": [
       "<div>\n",
       "<style scoped>\n",
       "    .dataframe tbody tr th:only-of-type {\n",
       "        vertical-align: middle;\n",
       "    }\n",
       "\n",
       "    .dataframe tbody tr th {\n",
       "        vertical-align: top;\n",
       "    }\n",
       "\n",
       "    .dataframe thead th {\n",
       "        text-align: right;\n",
       "    }\n",
       "</style>\n",
       "<table border=\"1\" class=\"dataframe\">\n",
       "  <thead>\n",
       "    <tr style=\"text-align: right;\">\n",
       "      <th></th>\n",
       "      <th>Age Group</th>\n",
       "      <th>Amount</th>\n",
       "    </tr>\n",
       "  </thead>\n",
       "  <tbody>\n",
       "    <tr>\n",
       "      <th>0</th>\n",
       "      <td>0-17</td>\n",
       "      <td>2696529.00</td>\n",
       "    </tr>\n",
       "    <tr>\n",
       "      <th>1</th>\n",
       "      <td>18-25</td>\n",
       "      <td>17032196.00</td>\n",
       "    </tr>\n",
       "    <tr>\n",
       "      <th>2</th>\n",
       "      <td>26-35</td>\n",
       "      <td>42603794.95</td>\n",
       "    </tr>\n",
       "    <tr>\n",
       "      <th>3</th>\n",
       "      <td>36-45</td>\n",
       "      <td>22234332.99</td>\n",
       "    </tr>\n",
       "    <tr>\n",
       "      <th>4</th>\n",
       "      <td>46-50</td>\n",
       "      <td>9245595.00</td>\n",
       "    </tr>\n",
       "    <tr>\n",
       "      <th>5</th>\n",
       "      <td>51-55</td>\n",
       "      <td>8278320.00</td>\n",
       "    </tr>\n",
       "    <tr>\n",
       "      <th>6</th>\n",
       "      <td>55+</td>\n",
       "      <td>4101590.00</td>\n",
       "    </tr>\n",
       "  </tbody>\n",
       "</table>\n",
       "</div>"
      ],
      "text/plain": [
       "  Age Group       Amount\n",
       "0      0-17   2696529.00\n",
       "1     18-25  17032196.00\n",
       "2     26-35  42603794.95\n",
       "3     36-45  22234332.99\n",
       "4     46-50   9245595.00\n",
       "5     51-55   8278320.00\n",
       "6       55+   4101590.00"
      ]
     },
     "execution_count": 66,
     "metadata": {},
     "output_type": "execute_result"
    }
   ],
   "source": [
    "data_age_group_amount= df.groupby(['Age Group'],as_index=False)['Amount'].sum()\n",
    "data_age_group_amount"
   ]
  },
  {
   "cell_type": "code",
   "execution_count": 67,
   "id": "25197679-a3d6-4718-87dd-db9bdaea76e0",
   "metadata": {},
   "outputs": [
    {
     "data": {
      "image/png": "[encoded data removed]",
      "text/plain": [
       "<Figure size 2000x800 with 2 Axes>"
      ]
     },
     "metadata": {},
     "output_type": "display_data"
    }
   ],
   "source": [
    "### Age GroupWise Analysis\n",
    "fig ,ax = plt.subplots(1,2,figsize=(20,8))\n",
    "# Countplot\n",
    "sns.countplot(x='Age Group',data= df,ax=ax[0])\n",
    "ax[0].set_title(\"Order count - Age Group\")\n",
    "# Bar Plot for purchase power\n",
    "sns.barplot(y='Age Group', x='Amount', orient='h',data=data_age_group_amount, ax=ax[1])\n",
    "ax[1].set_title(\"Purchase Power -Age Group\")\n",
    "plt.show()"
   ]
  },
  {
   "cell_type": "markdown",
   "id": "cb9dc063-9121-4e5f-99ed-3a6e03e07be8",
   "metadata": {},
   "source": [
    "#### Conclusion: 26-35 age group peoples places more orders.."
   ]
  },
  {
   "cell_type": "code",
   "execution_count": 68,
   "id": "887d18c4-519c-400a-a091-c917797a40b4",
   "metadata": {},
   "outputs": [
    {
     "data": {
      "text/html": [
       "<div>\n",
       "<style scoped>\n",
       "    .dataframe tbody tr th:only-of-type {\n",
       "        vertical-align: middle;\n",
       "    }\n",
       "\n",
       "    .dataframe tbody tr th {\n",
       "        vertical-align: top;\n",
       "    }\n",
       "\n",
       "    .dataframe thead th {\n",
       "        text-align: right;\n",
       "    }\n",
       "</style>\n",
       "<table border=\"1\" class=\"dataframe\">\n",
       "  <thead>\n",
       "    <tr style=\"text-align: right;\">\n",
       "      <th></th>\n",
       "      <th>Product_Category</th>\n",
       "      <th>Amount</th>\n",
       "    </tr>\n",
       "  </thead>\n",
       "  <tbody>\n",
       "    <tr>\n",
       "      <th>0</th>\n",
       "      <td>Auto</td>\n",
       "      <td>1624503.00</td>\n",
       "    </tr>\n",
       "    <tr>\n",
       "      <th>1</th>\n",
       "      <td>Beauty</td>\n",
       "      <td>1959484.00</td>\n",
       "    </tr>\n",
       "    <tr>\n",
       "      <th>2</th>\n",
       "      <td>Books</td>\n",
       "      <td>1061478.00</td>\n",
       "    </tr>\n",
       "    <tr>\n",
       "      <th>3</th>\n",
       "      <td>Clothing &amp; Apparel</td>\n",
       "      <td>16484472.00</td>\n",
       "    </tr>\n",
       "    <tr>\n",
       "      <th>4</th>\n",
       "      <td>Decor</td>\n",
       "      <td>730360.00</td>\n",
       "    </tr>\n",
       "    <tr>\n",
       "      <th>5</th>\n",
       "      <td>Electronics &amp; Gadgets</td>\n",
       "      <td>15607657.00</td>\n",
       "    </tr>\n",
       "    <tr>\n",
       "      <th>6</th>\n",
       "      <td>Food</td>\n",
       "      <td>33933883.50</td>\n",
       "    </tr>\n",
       "    <tr>\n",
       "      <th>7</th>\n",
       "      <td>Footwear &amp; Shoes</td>\n",
       "      <td>16009057.45</td>\n",
       "    </tr>\n",
       "    <tr>\n",
       "      <th>8</th>\n",
       "      <td>Furniture</td>\n",
       "      <td>5481325.99</td>\n",
       "    </tr>\n",
       "    <tr>\n",
       "      <th>9</th>\n",
       "      <td>Games &amp; Toys</td>\n",
       "      <td>4331694.00</td>\n",
       "    </tr>\n",
       "    <tr>\n",
       "      <th>10</th>\n",
       "      <td>Hand &amp; Power Tools</td>\n",
       "      <td>405618.00</td>\n",
       "    </tr>\n",
       "    <tr>\n",
       "      <th>11</th>\n",
       "      <td>Household items</td>\n",
       "      <td>1569337.00</td>\n",
       "    </tr>\n",
       "    <tr>\n",
       "      <th>12</th>\n",
       "      <td>Office</td>\n",
       "      <td>81936.00</td>\n",
       "    </tr>\n",
       "    <tr>\n",
       "      <th>13</th>\n",
       "      <td>Pet Care</td>\n",
       "      <td>482277.00</td>\n",
       "    </tr>\n",
       "    <tr>\n",
       "      <th>14</th>\n",
       "      <td>Sports Products</td>\n",
       "      <td>3635933.00</td>\n",
       "    </tr>\n",
       "    <tr>\n",
       "      <th>15</th>\n",
       "      <td>Stationery</td>\n",
       "      <td>1504531.00</td>\n",
       "    </tr>\n",
       "    <tr>\n",
       "      <th>16</th>\n",
       "      <td>Tupperware</td>\n",
       "      <td>1176109.00</td>\n",
       "    </tr>\n",
       "    <tr>\n",
       "      <th>17</th>\n",
       "      <td>Veterinary</td>\n",
       "      <td>112702.00</td>\n",
       "    </tr>\n",
       "  </tbody>\n",
       "</table>\n",
       "</div>"
      ],
      "text/plain": [
       "         Product_Category       Amount\n",
       "0                    Auto   1624503.00\n",
       "1                  Beauty   1959484.00\n",
       "2                   Books   1061478.00\n",
       "3      Clothing & Apparel  16484472.00\n",
       "4                   Decor    730360.00\n",
       "5   Electronics & Gadgets  15607657.00\n",
       "6                    Food  33933883.50\n",
       "7        Footwear & Shoes  16009057.45\n",
       "8               Furniture   5481325.99\n",
       "9            Games & Toys   4331694.00\n",
       "10     Hand & Power Tools    405618.00\n",
       "11        Household items   1569337.00\n",
       "12                 Office     81936.00\n",
       "13               Pet Care    482277.00\n",
       "14        Sports Products   3635933.00\n",
       "15             Stationery   1504531.00\n",
       "16             Tupperware   1176109.00\n",
       "17             Veterinary    112702.00"
      ]
     },
     "execution_count": 68,
     "metadata": {},
     "output_type": "execute_result"
    }
   ],
   "source": [
    "data_Product_category_amount= df.groupby(['Product_Category'],as_index=False)['Amount'].sum()\n",
    "data_Product_category_amount"
   ]
  },
  {
   "cell_type": "code",
   "execution_count": 69,
   "id": "59f1c4fb-74d5-4625-98aa-652a90055eb2",
   "metadata": {},
   "outputs": [
    {
     "data": {
      "image/png": "[encoded data removed]",
      "text/plain": [
       "<Figure size 5000x800 with 2 Axes>"
      ]
     },
     "metadata": {},
     "output_type": "display_data"
    }
   ],
   "source": [
    "### Age GroupWise Analysis\n",
    "fig ,ax = plt.subplots(1,2,figsize=(50,8))\n",
    "# Countplot\n",
    "sns.countplot(x='Product_Category',data= df,ax=ax[0])\n",
    "ax[0].set_title(\"Order count - Product_Category\")\n",
    "# Bar Plot for purchase power\n",
    "sns.barplot(y='Product_Category', x='Amount', orient='h',data=data_Product_category_amount, ax=ax[1])\n",
    "ax[1].set_title(\"Purchase Power -Product Category \")\n",
    "plt.show()"
   ]
  },
  {
   "cell_type": "markdown",
   "id": "4c233414-7fed-4e0f-bd66-b5b49ccd1bbf",
   "metadata": {},
   "source": [
    "#Conclusion : Clothing , Apparel and Electronics are the mostly Ordered products..\n"
   ]
  },
  {
   "cell_type": "markdown",
   "id": "4c73f2c4-d7ef-414c-bf2b-97c38e4edc53",
   "metadata": {},
   "source": [
    "### Analysis Based on Product_ID"
   ]
  },
  {
   "cell_type": "code",
   "execution_count": 70,
   "id": "9bc22db9-8976-416b-b445-660dcfaa0ccd",
   "metadata": {},
   "outputs": [
    {
     "data": {
      "text/plain": [
       "<Axes: xlabel='Product_ID', ylabel='Orders'>"
      ]
     },
     "execution_count": 70,
     "metadata": {},
     "output_type": "execute_result"
    },
    {
     "data": {
      "image/png": "[encoded data removed]",
      "text/plain": [
       "<Figure size 2000x500 with 1 Axes>"
      ]
     },
     "metadata": {},
     "output_type": "display_data"
    }
   ],
   "source": [
    "sales_state = df.groupby(['Product_ID'], as_index=False)['Orders'].sum().sort_values(by='Orders', ascending=False).head(10)\n",
    "\n",
    "sns.set(rc={'figure.figsize':(20,5)})\n",
    "sns.barplot(data = sales_state, x = 'Product_ID',y= 'Orders')"
   ]
  },
  {
   "cell_type": "code",
   "execution_count": 71,
   "id": "d3377136-89fb-4c17-9bb9-e842420bb719",
   "metadata": {},
   "outputs": [
    {
     "data": {
      "text/plain": [
       "<Axes: xlabel='Product_ID'>"
      ]
     },
     "execution_count": 71,
     "metadata": {},
     "output_type": "execute_result"
    },
    {
     "data": {
      "image/png": "[encoded data removed]",
      "text/plain": [
       "<Figure size 1200x700 with 1 Axes>"
      ]
     },
     "metadata": {},
     "output_type": "display_data"
    }
   ],
   "source": [
    "fig1, ax1 = plt.subplots(figsize=(12,7))\n",
    "df.groupby('Product_ID')['Orders'].sum().nlargest(10).sort_values(ascending=False).plot(kind='bar')"
   ]
  },
  {
   "cell_type": "markdown",
   "id": "249bd35b-465c-4f7e-b9a6-bdd3ab5e237a",
   "metadata": {},
   "source": [
    "##Conclusion: It shows that Mostly Orders has been done Of Product_ID P00265242"
   ]
  },
  {
   "cell_type": "code",
   "execution_count": 72,
   "id": "7963bbd4-b5fa-48f0-aff3-87f8b3b67562",
   "metadata": {},
   "outputs": [
    {
     "data": {
      "image/png": "[encoded data removed]",
      "text/plain": [
       "<Figure size 2000x500 with 1 Axes>"
      ]
     },
     "metadata": {},
     "output_type": "display_data"
    }
   ],
   "source": [
    "### Analysis Base on Occupation\n",
    "sns.set(rc={'figure.figsize':(20,5)})\n",
    "ax = sns.countplot(data = df, x = 'Occupation')\n",
    "\n",
    "for bars in ax.containers:\n",
    "    ax.bar_label(bars)"
   ]
  },
  {
   "cell_type": "code",
   "execution_count": 73,
   "id": "23d17442-27ed-4491-ad9b-a0eca0c03ac5",
   "metadata": {},
   "outputs": [
    {
     "data": {
      "text/plain": [
       "<Axes: xlabel='Occupation', ylabel='Amount'>"
      ]
     },
     "execution_count": 73,
     "metadata": {},
     "output_type": "execute_result"
    },
    {
     "data": {
      "image/png": "[encoded data removed]",
      "text/plain": [
       "<Figure size 2000x500 with 1 Axes>"
      ]
     },
     "metadata": {},
     "output_type": "display_data"
    }
   ],
   "source": [
    "sales_state = df.groupby(['Occupation'], as_index=False)['Amount'].sum().sort_values(by='Amount', ascending=False)\n",
    "\n",
    "sns.set(rc={'figure.figsize':(20,5)})\n",
    "sns.barplot(data = sales_state, x = 'Occupation',y= 'Amount')"
   ]
  },
  {
   "cell_type": "markdown",
   "id": "69563254-8f09-46d6-97ae-69c1b188bf6b",
   "metadata": {},
   "source": [
    "### Conclusion : It shows that Most of Orders has been done by IT,HealthCare and Aviation Sector Buyers.. "
   ]
  },
  {
   "cell_type": "code",
   "execution_count": 74,
   "id": "04ee4536-8040-433b-a1ce-ead27316aa2b",
   "metadata": {},
   "outputs": [
    {
     "data": {
      "text/plain": [
       "<Axes: xlabel='State', ylabel='Orders'>"
      ]
     },
     "execution_count": 74,
     "metadata": {},
     "output_type": "execute_result"
    },
    {
     "data": {
      "image/png": "[encoded data removed]",
      "text/plain": [
       "<Figure size 1500x500 with 1 Axes>"
      ]
     },
     "metadata": {},
     "output_type": "display_data"
    }
   ],
   "source": [
    "### Analysis Using States..\n",
    "sales_state = df.groupby(['State'], as_index=False)['Orders'].sum().sort_values(by='Orders', ascending=False).head(10)\n",
    "\n",
    "sns.set(rc={'figure.figsize':(15,5)})\n",
    "sns.barplot(data = sales_state, x = 'State',y= 'Orders')"
   ]
  },
  {
   "cell_type": "code",
   "execution_count": 75,
   "id": "5d3305b8-2361-4672-9478-0f0ab1dab2ca",
   "metadata": {},
   "outputs": [
    {
     "data": {
      "text/plain": [
       "<Axes: xlabel='State', ylabel='Amount'>"
      ]
     },
     "execution_count": 75,
     "metadata": {},
     "output_type": "execute_result"
    },
    {
     "data": {
      "image/png": "[encoded data removed]",
      "text/plain": [
       "<Figure size 1500x500 with 1 Axes>"
      ]
     },
     "metadata": {},
     "output_type": "display_data"
    }
   ],
   "source": [
    "sales_state = df.groupby(['State'], as_index=False)['Amount'].sum().sort_values(by='Amount', ascending=False).head(10)\n",
    "\n",
    "sns.set(rc={'figure.figsize':(15,5)})\n",
    "sns.barplot(data = sales_state, x = 'State',y= 'Amount')"
   ]
  },
  {
   "cell_type": "markdown",
   "id": "b4fee323-b777-4831-ab4e-415da66d6634",
   "metadata": {},
   "source": [
    "### Conclusion: It shows that UP,Maharastra and Karnatka people Order the Mostly by Amount and as well as Sales"
   ]
  }
 ],
 "metadata": {
  "kernelspec": {
   "display_name": "Python 3 (ipykernel)",
   "language": "python",
   "name": "python3"
  },
  "language_info": {
   "codemirror_mode": {
    "name": "ipython",
    "version": 3
   },
   "file_extension": ".py",
   "mimetype": "text/x-python",
   "name": "python",
   "nbconvert_exporter": "python",
   "pygments_lexer": "ipython3",
   "version": "3.11.7"
  }
 },
 "nbformat": 4,
 "nbformat_minor": 5
}
