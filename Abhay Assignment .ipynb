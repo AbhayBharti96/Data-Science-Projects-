{
 "cells": [
  {
   "cell_type": "code",
   "execution_count": 2,
   "id": "d3bcc00f-b688-4816-ae4b-79f22f59ef9b",
   "metadata": {},
   "outputs": [
    {
     "name": "stdin",
     "output_type": "stream",
     "text": [
      "Enter the lower bound of the range:  10\n",
      "Enter the upper bound of the range:  20\n"
     ]
    },
    {
     "name": "stdout",
     "output_type": "stream",
     "text": [
      "Number of perfect square numbers in the range: 1\n"
     ]
    }
   ],
   "source": [
    "### code for counting the Perfect Squares\n",
    "l = int(input(\"Enter the lower bound of the range: \"))\n",
    "u= int(input(\"Enter the upper bound of the range: \"))\n",
    "\n",
    "count = 0\n",
    "for num in range(l, u + 1):\n",
    "    sqr = int(num ** 0.5)\n",
    "    if sqr * sqr == num:\n",
    "        count += 1\n",
    "\n",
    "print(f\"Number of perfect square numbers in the range: {count}\")"
   ]
  },
  {
   "cell_type": "code",
   "execution_count": 6,
   "id": "b3a34f5e-db6f-4580-a05e-d3f97e81124d",
   "metadata": {},
   "outputs": [
    {
     "name": "stdin",
     "output_type": "stream",
     "text": [
      "Enter the number of rows:  5\n"
     ]
    },
    {
     "name": "stdout",
     "output_type": "stream",
     "text": [
      "*  \n",
      "* *  \n",
      "* * *  \n",
      "* * * *  \n",
      "* * * * *  \n",
      "* * * * *  \n",
      "* * * *  \n",
      "* * *  \n",
      "* *  \n",
      "*  \n",
      " \n"
     ]
    }
   ],
   "source": [
    "#### code for printing the following Pattern..\n",
    "rows = int(input(\"Enter the number of rows: \"))      \n",
    "for i in range(0, rows):      \n",
    "    for j in range(0, i + 1):    \n",
    "        print(\"*\", end=' ')       \n",
    "    print(\" \")        \n",
    "for i in range(rows + 1, 0, -1):    \n",
    "    for j in range(0, i - 1):     \n",
    "        print(\"*\", end=' ')    \n",
    "    print(\" \")   "
   ]
  },
  {
   "cell_type": "code",
   "execution_count": 10,
   "id": "8e74eef5-9b4f-4f3c-b239-d729c71a68d5",
   "metadata": {},
   "outputs": [
    {
     "name": "stdin",
     "output_type": "stream",
     "text": [
      "Enter a positive integer:  5\n"
     ]
    },
    {
     "name": "stdout",
     "output_type": "stream",
     "text": [
      "5 is a prime number.\n"
     ]
    }
   ],
   "source": [
    "### Checking whether is Prime Or Not\n",
    "user_number = int(input(\"Enter a positive integer: \"))\n",
    "\n",
    "if user_number <= 1:\n",
    "    print(f\"{user_number} is not a prime number.\")\n",
    "else:\n",
    "    is_prime = True\n",
    "    for i in range(2, int(user_number**0.5) + 1):\n",
    "        if user_number % i == 0:\n",
    "            is_prime = False\n",
    "            break\n",
    "\n",
    "    if is_prime:\n",
    "        print(f\"{user_number} is a prime number.\")\n",
    "    else:\n",
    "        print(f\"{user_number} is not a prime number.\")"
   ]
  }
 ],
 "metadata": {
  "kernelspec": {
   "display_name": "Python 3 (ipykernel)",
   "language": "python",
   "name": "python3"
  },
  "language_info": {
   "codemirror_mode": {
    "name": "ipython",
    "version": 3
   },
   "file_extension": ".py",
   "mimetype": "text/x-python",
   "name": "python",
   "nbconvert_exporter": "python",
   "pygments_lexer": "ipython3",
   "version": "3.11.7"
  }
 },
 "nbformat": 4,
 "nbformat_minor": 5
}
