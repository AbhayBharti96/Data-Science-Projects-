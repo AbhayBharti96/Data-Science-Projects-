{
 "cells": [
  {
   "cell_type": "markdown",
   "id": "0064d5ca-6e03-42f9-846b-05b5d90942da",
   "metadata": {},
   "source": [
    "## Summer Training Data Analysis and  Visualisation Project "
   ]
  },
  {
   "cell_type": "code",
   "execution_count": 55,
   "id": "ab0f89a9-43f3-449e-97de-cff5ec51927d",
   "metadata": {},
   "outputs": [],
   "source": [
    "import pandas as pd \n",
    "import numpy as np \n",
    "import matplotlib.pyplot as plt \n",
    "import seaborn as sns"
   ]
  },
  {
   "cell_type": "code",
   "execution_count": 56,
   "id": "59bc99cb-9fbe-45c2-a99c-26451b3db7f3",
   "metadata": {},
   "outputs": [
    {
     "name": "stderr",
     "output_type": "stream",
     "text": [
      "C:\\Users\\abhay\\AppData\\Local\\Temp\\ipykernel_8160\\103912034.py:1: DtypeWarning: Columns (11,12) have mixed types. Specify dtype option on import or set low_memory=False.\n",
      "  dv = pd.read_csv('C:\\\\Users\\\\abhay\\\\Downloads\\\\Flight_Data.csv',encoding='unicode_escape')\n"
     ]
    },
    {
     "name": "stdout",
     "output_type": "stream",
     "text": [
      "<class 'pandas.core.frame.DataFrame'>\n",
      "RangeIndex: 301206 entries, 0 to 301205\n",
      "Data columns (total 13 columns):\n",
      " #   Column            Non-Null Count   Dtype  \n",
      "---  ------            --------------   -----  \n",
      " 0   Unnamed: 0        301206 non-null  int64  \n",
      " 1   airline           300754 non-null  object \n",
      " 2   flight            301206 non-null  object \n",
      " 3   source_city       301206 non-null  object \n",
      " 4   departure_time    301206 non-null  object \n",
      " 5   stops             301206 non-null  object \n",
      " 6   arrival_time      301206 non-null  object \n",
      " 7   destination_city  301206 non-null  object \n",
      " 8   class             301006 non-null  object \n",
      " 9   duration          300956 non-null  float64\n",
      " 10  days_left         301206 non-null  int64  \n",
      " 11  price             301106 non-null  object \n",
      " 12  date              358 non-null     object \n",
      "dtypes: float64(1), int64(2), object(10)\n",
      "memory usage: 29.9+ MB\n"
     ]
    }
   ],
   "source": [
    "dv = pd.read_csv('C:\\\\Users\\\\abhay\\\\Downloads\\\\Flight_Data.csv',encoding='unicode_escape')\n",
    "# dv\n",
    "dv.info()"
   ]
  },
  {
   "cell_type": "code",
   "execution_count": 57,
   "id": "369dd59e-474a-4b4c-b561-26ff66f54ecb",
   "metadata": {},
   "outputs": [],
   "source": [
    "## Copying the Data Set\n",
    "df = dv.copy()"
   ]
  },
  {
   "cell_type": "code",
   "execution_count": 58,
   "id": "cabe4566-81c1-476a-acf8-f4ad8f5dc814",
   "metadata": {},
   "outputs": [
    {
     "data": {
      "text/html": [
       "<div>\n",
       "<style scoped>\n",
       "    .dataframe tbody tr th:only-of-type {\n",
       "        vertical-align: middle;\n",
       "    }\n",
       "\n",
       "    .dataframe tbody tr th {\n",
       "        vertical-align: top;\n",
       "    }\n",
       "\n",
       "    .dataframe thead th {\n",
       "        text-align: right;\n",
       "    }\n",
       "</style>\n",
       "<table border=\"1\" class=\"dataframe\">\n",
       "  <thead>\n",
       "    <tr style=\"text-align: right;\">\n",
       "      <th></th>\n",
       "      <th>Unnamed: 0</th>\n",
       "      <th>airline</th>\n",
       "      <th>flight</th>\n",
       "      <th>source_city</th>\n",
       "      <th>departure_time</th>\n",
       "      <th>stops</th>\n",
       "      <th>arrival_time</th>\n",
       "      <th>destination_city</th>\n",
       "      <th>class</th>\n",
       "      <th>duration</th>\n",
       "      <th>days_left</th>\n",
       "      <th>price</th>\n",
       "      <th>date</th>\n",
       "    </tr>\n",
       "  </thead>\n",
       "  <tbody>\n",
       "    <tr>\n",
       "      <th>0</th>\n",
       "      <td>0</td>\n",
       "      <td>SpiceJet</td>\n",
       "      <td>SG-8709</td>\n",
       "      <td>Delhi</td>\n",
       "      <td>Evening</td>\n",
       "      <td>zero</td>\n",
       "      <td>Night</td>\n",
       "      <td>Mumbai</td>\n",
       "      <td>Economy</td>\n",
       "      <td>2.17</td>\n",
       "      <td>1</td>\n",
       "      <td>5953</td>\n",
       "      <td>01-01-2018</td>\n",
       "    </tr>\n",
       "    <tr>\n",
       "      <th>1</th>\n",
       "      <td>1</td>\n",
       "      <td>SpiceJet</td>\n",
       "      <td>SG-8157</td>\n",
       "      <td>Delhi</td>\n",
       "      <td>Early_Morning</td>\n",
       "      <td>zero</td>\n",
       "      <td>Morning</td>\n",
       "      <td>Mumbai</td>\n",
       "      <td>Economy</td>\n",
       "      <td>2.33</td>\n",
       "      <td>1</td>\n",
       "      <td>5953</td>\n",
       "      <td>02-01-2018</td>\n",
       "    </tr>\n",
       "    <tr>\n",
       "      <th>2</th>\n",
       "      <td>2</td>\n",
       "      <td>AirAsia</td>\n",
       "      <td>I5-764</td>\n",
       "      <td>Delhi</td>\n",
       "      <td>Early_Morning</td>\n",
       "      <td>zero</td>\n",
       "      <td>Early_Morning</td>\n",
       "      <td>Mumbai</td>\n",
       "      <td>Economy</td>\n",
       "      <td>2.17</td>\n",
       "      <td>1</td>\n",
       "      <td>5956</td>\n",
       "      <td>03-01-2018</td>\n",
       "    </tr>\n",
       "  </tbody>\n",
       "</table>\n",
       "</div>"
      ],
      "text/plain": [
       "   Unnamed: 0   airline   flight source_city departure_time stops  \\\n",
       "0           0  SpiceJet  SG-8709       Delhi        Evening  zero   \n",
       "1           1  SpiceJet  SG-8157       Delhi  Early_Morning  zero   \n",
       "2           2   AirAsia   I5-764       Delhi  Early_Morning  zero   \n",
       "\n",
       "    arrival_time destination_city    class  duration  days_left price  \\\n",
       "0          Night           Mumbai  Economy      2.17          1  5953   \n",
       "1        Morning           Mumbai  Economy      2.33          1  5953   \n",
       "2  Early_Morning           Mumbai  Economy      2.17          1  5956   \n",
       "\n",
       "         date  \n",
       "0  01-01-2018  \n",
       "1  02-01-2018  \n",
       "2  03-01-2018  "
      ]
     },
     "execution_count": 58,
     "metadata": {},
     "output_type": "execute_result"
    }
   ],
   "source": [
    "df.head(3)"
   ]
  },
  {
   "cell_type": "code",
   "execution_count": 59,
   "id": "c403775c-a6d5-42a9-9501-7a60e7c31d94",
   "metadata": {},
   "outputs": [
    {
     "data": {
      "text/plain": [
       "(301206, 13)"
      ]
     },
     "execution_count": 59,
     "metadata": {},
     "output_type": "execute_result"
    }
   ],
   "source": [
    "## Data Preprocessing \n",
    "df.shape"
   ]
  },
  {
   "cell_type": "code",
   "execution_count": 60,
   "id": "cf59d5d9-5f2c-4300-bdaa-2d2002448e3e",
   "metadata": {},
   "outputs": [
    {
     "data": {
      "text/plain": [
       "Unnamed: 0               0\n",
       "airline                452\n",
       "flight                   0\n",
       "source_city              0\n",
       "departure_time           0\n",
       "stops                    0\n",
       "arrival_time             0\n",
       "destination_city         0\n",
       "class                  200\n",
       "duration               250\n",
       "days_left                0\n",
       "price                  100\n",
       "date                300848\n",
       "dtype: int64"
      ]
     },
     "execution_count": 60,
     "metadata": {},
     "output_type": "execute_result"
    }
   ],
   "source": [
    "df.isna().sum()"
   ]
  },
  {
   "cell_type": "code",
   "execution_count": 61,
   "id": "a23199ed-a2e6-41cc-b132-a2dbfcaadc88",
   "metadata": {},
   "outputs": [
    {
     "data": {
      "text/plain": [
       "Index(['Unnamed: 0', 'airline', 'flight', 'source_city', 'departure_time',\n",
       "       'stops', 'arrival_time', 'destination_city', 'class', 'duration',\n",
       "       'days_left', 'price', 'date'],\n",
       "      dtype='object')"
      ]
     },
     "execution_count": 61,
     "metadata": {},
     "output_type": "execute_result"
    }
   ],
   "source": [
    "all_col= df.columns\n",
    "all_col"
   ]
  },
  {
   "cell_type": "code",
   "execution_count": 62,
   "id": "858a54f5-9345-4d71-999f-a66545009724",
   "metadata": {
    "scrolled": true
   },
   "outputs": [
    {
     "data": {
      "text/plain": [
       "0         False\n",
       "1         False\n",
       "2         False\n",
       "3         False\n",
       "4         False\n",
       "          ...  \n",
       "301201    False\n",
       "301202    False\n",
       "301203    False\n",
       "301204    False\n",
       "301205    False\n",
       "Length: 301206, dtype: bool"
      ]
     },
     "execution_count": 62,
     "metadata": {},
     "output_type": "execute_result"
    }
   ],
   "source": [
    "## Checking the Is there any column having the duplicate values or Not\n",
    "df.duplicated()"
   ]
  },
  {
   "cell_type": "markdown",
   "id": "99ca1dfc-460c-4e70-b51c-041e4b1288c6",
   "metadata": {},
   "source": [
    "### Investigating the All columns Values...\n",
    "\n",
    "## Price Columns should be converted from Object to Intger datatype \n",
    "## Date Columns having the apprx 90% data as null so we will drop that columns\n",
    "## Removing the NA values from Columns\n",
    " # * price\n",
    " # * class\n",
    " # * destination_city\n",
    " # * duration\n",
    " # * airline\n"
   ]
  },
  {
   "cell_type": "markdown",
   "id": "b407d59a-559a-4002-b58e-ef23b922c09c",
   "metadata": {},
   "source": [
    "### Checking the Price Column"
   ]
  },
  {
   "cell_type": "code",
   "execution_count": null,
   "id": "5802edbc-c07e-4731-b370-7ee4ffecbf59",
   "metadata": {},
   "outputs": [],
   "source": [
    "df['price'].dtype"
   ]
  },
  {
   "cell_type": "code",
   "execution_count": null,
   "id": "67941d70-1c49-4a1d-93b5-6b0da95d5718",
   "metadata": {},
   "outputs": [],
   "source": [
    "df['price'].unique()"
   ]
  },
  {
   "cell_type": "code",
   "execution_count": null,
   "id": "fc2c14b1-8db9-406e-a48f-1e639d8dfba2",
   "metadata": {},
   "outputs": [],
   "source": [
    "df['price'].isna().sum()"
   ]
  },
  {
   "cell_type": "markdown",
   "id": "9b4eb99e-2ea6-4129-80c8-3b50a579712e",
   "metadata": {},
   "source": [
    "### Checking the airline  column"
   ]
  },
  {
   "cell_type": "code",
   "execution_count": null,
   "id": "4e25b29f-842c-43ec-98a8-66fe75db23e7",
   "metadata": {},
   "outputs": [],
   "source": [
    "df['airline'].dtype"
   ]
  },
  {
   "cell_type": "code",
   "execution_count": null,
   "id": "13082a77-e5ca-4bea-9d29-7180c717bd3e",
   "metadata": {},
   "outputs": [],
   "source": [
    "df['airline'].unique()"
   ]
  },
  {
   "cell_type": "code",
   "execution_count": null,
   "id": "520e15bb-c6fa-4aa0-93fe-26ab2850a979",
   "metadata": {},
   "outputs": [],
   "source": [
    "df['airline'].isna().sum()"
   ]
  },
  {
   "cell_type": "markdown",
   "id": "b4792c4b-bb99-403d-908d-82978525c881",
   "metadata": {},
   "source": [
    "### Checking the flight  column"
   ]
  },
  {
   "cell_type": "code",
   "execution_count": null,
   "id": "732839aa-0784-4dcd-8875-d670e28d2aaa",
   "metadata": {},
   "outputs": [],
   "source": [
    "df['airline'].isna().sum()"
   ]
  },
  {
   "cell_type": "code",
   "execution_count": null,
   "id": "cc16b0b9-42d2-4a88-819a-fb2be6280f97",
   "metadata": {},
   "outputs": [],
   "source": [
    "df['airline'].unique()"
   ]
  },
  {
   "cell_type": "code",
   "execution_count": null,
   "id": "7e8bfc64-395e-4bff-bf9d-c0195beb79b7",
   "metadata": {},
   "outputs": [],
   "source": [
    "df['airline'].dtype"
   ]
  },
  {
   "cell_type": "code",
   "execution_count": 10,
   "id": "32bbfa63-636d-4654-90c2-b651385e45fa",
   "metadata": {},
   "outputs": [
    {
     "data": {
      "text/plain": [
       "airline\n",
       "Vistara      128275\n",
       "Air_India     81060\n",
       "Indigo        43128\n",
       "GO_FIRST      23176\n",
       "AirAsia       16100\n",
       "SpiceJet       9015\n",
       "Name: count, dtype: int64"
      ]
     },
     "execution_count": 10,
     "metadata": {},
     "output_type": "execute_result"
    }
   ],
   "source": [
    "df['airline'].value_counts()"
   ]
  },
  {
   "cell_type": "markdown",
   "id": "fa99642b-8af4-4a01-8b10-3570dbc1c48b",
   "metadata": {},
   "source": [
    "### Checking the source city column\n"
   ]
  },
  {
   "cell_type": "code",
   "execution_count": 11,
   "id": "5d592019-e153-4e95-bd53-a8a2dd139943",
   "metadata": {},
   "outputs": [
    {
     "data": {
      "text/plain": [
       "0"
      ]
     },
     "execution_count": 11,
     "metadata": {},
     "output_type": "execute_result"
    }
   ],
   "source": [
    "df['source_city'].isna().sum()"
   ]
  },
  {
   "cell_type": "code",
   "execution_count": 12,
   "id": "908dbf98-4dc5-4b66-bd57-e61a110457c2",
   "metadata": {},
   "outputs": [
    {
     "data": {
      "text/plain": [
       "array(['Delhi', 'Mumbai', 'Bangalore', 'Kolkata', 'Hyderabad', 'Chennai'],\n",
       "      dtype=object)"
      ]
     },
     "execution_count": 12,
     "metadata": {},
     "output_type": "execute_result"
    }
   ],
   "source": [
    "df['source_city'].unique()\n"
   ]
  },
  {
   "cell_type": "markdown",
   "id": "3b5a1db7-b3aa-4bdf-a778-1c13466c8215",
   "metadata": {},
   "source": [
    "### Cheking the departure_time column"
   ]
  },
  {
   "cell_type": "code",
   "execution_count": 13,
   "id": "6be23dbe-aea8-4574-b583-e218d2a712b0",
   "metadata": {},
   "outputs": [
    {
     "data": {
      "text/plain": [
       "0"
      ]
     },
     "execution_count": 13,
     "metadata": {},
     "output_type": "execute_result"
    }
   ],
   "source": [
    "df['departure_time'].isna().sum()"
   ]
  },
  {
   "cell_type": "code",
   "execution_count": 14,
   "id": "162ca15c-49b1-4ebb-baae-c7c7a74eaf77",
   "metadata": {},
   "outputs": [
    {
     "data": {
      "text/plain": [
       "array(['Evening', 'Early_Morning', 'Morning', 'Afternoon', 'Night',\n",
       "       'Late_Night'], dtype=object)"
      ]
     },
     "execution_count": 14,
     "metadata": {},
     "output_type": "execute_result"
    }
   ],
   "source": [
    "df['departure_time'].unique()"
   ]
  },
  {
   "cell_type": "markdown",
   "id": "8d80f344-a674-42cb-b6de-c25534b876a4",
   "metadata": {},
   "source": [
    "### Cheking the stops column"
   ]
  },
  {
   "cell_type": "code",
   "execution_count": 15,
   "id": "01de6917-779f-4955-8f93-c915b60d7651",
   "metadata": {},
   "outputs": [
    {
     "data": {
      "text/plain": [
       "array(['zero', 'one', 'two_or_more'], dtype=object)"
      ]
     },
     "execution_count": 15,
     "metadata": {},
     "output_type": "execute_result"
    }
   ],
   "source": [
    "df['stops'].unique()"
   ]
  },
  {
   "cell_type": "code",
   "execution_count": 16,
   "id": "881f980c-0d1f-4a37-9556-ff2334bb33ef",
   "metadata": {},
   "outputs": [
    {
     "data": {
      "text/plain": [
       "array(['Night', 'Morning', 'Early_Morning', 'Afternoon', 'Evening',\n",
       "       'Late_Night'], dtype=object)"
      ]
     },
     "execution_count": 16,
     "metadata": {},
     "output_type": "execute_result"
    }
   ],
   "source": [
    "df['arrival_time'].unique()"
   ]
  },
  {
   "cell_type": "code",
   "execution_count": 17,
   "id": "45cc1e57-7dbf-4bec-9361-4a13f8174678",
   "metadata": {},
   "outputs": [
    {
     "data": {
      "text/plain": [
       "array(['Mumbai', 'Bangalore', 'Kolkata', 'Hyderabad', 'Chennai', 'Delhi'],\n",
       "      dtype=object)"
      ]
     },
     "execution_count": 17,
     "metadata": {},
     "output_type": "execute_result"
    }
   ],
   "source": [
    "df['destination_city'].unique()"
   ]
  },
  {
   "cell_type": "code",
   "execution_count": 18,
   "id": "20c84fa5-30f4-462f-af17-2ba7e011c125",
   "metadata": {},
   "outputs": [
    {
     "data": {
      "text/plain": [
       "array(['Economy', 'Business', nan], dtype=object)"
      ]
     },
     "execution_count": 18,
     "metadata": {},
     "output_type": "execute_result"
    }
   ],
   "source": [
    "df['class'].unique()"
   ]
  },
  {
   "cell_type": "code",
   "execution_count": 19,
   "id": "ac903b77-4af7-403a-9820-b4dec770e5c7",
   "metadata": {},
   "outputs": [
    {
     "data": {
      "text/plain": [
       "array([  2.17,   2.33,   2.25,   2.08,  12.25,  16.33,  11.75,  14.5 ,\n",
       "        15.67,   3.75,   2.5 ,   5.83,   8.  ,   6.  ,  14.67,  16.17,\n",
       "        18.  ,  23.17,  24.17,   8.83,   4.5 ,  15.25,  11.  ,  19.08,\n",
       "        22.83,  26.42,  17.75,  19.58,  26.67,  15.17,  20.83,  11.42,\n",
       "        22.25,  26.  ,  21.75,   3.83,   4.42,   7.67,   8.33,  10.42,\n",
       "        23.75,  19.5 ,   6.5 ,  12.42,  21.08,  28.17,  28.25,   9.25,\n",
       "        17.92,   7.08,  13.83,   7.58,  15.83,  24.42,   4.17,   4.25,\n",
       "         5.08,  29.33,  17.  ,  27.17,  24.75,   5.75,  12.75,  13.75,\n",
       "        17.83,   5.5 ,  23.83,   5.  ,  26.5 ,  12.83,   8.92,  11.17,\n",
       "        12.17,  15.58,  15.75,   7.92,  13.25,  16.  ,  22.75,   6.33,\n",
       "         7.25,  30.08,  18.25,   6.08,   2.  ,  12.33,   3.5 ,  10.25,\n",
       "        14.17,  25.58,   4.08,   9.75,   6.67,   9.67,  10.08,  12.58,\n",
       "         7.  ,   8.25,  15.5 ,  10.17,  23.5 ,  25.75,  11.5 ,  21.42,\n",
       "        14.25,   7.75,   5.33,   5.67,   4.75,  19.33,   6.25,  10.33,\n",
       "         9.08,  15.42,   4.83,  25.83,   7.5 ,  27.58,  28.42,   6.42,\n",
       "        24.58,  16.5 ,  11.33,  24.83,  14.92,  26.08,   5.42,  28.5 ,\n",
       "        27.33,   8.67,  20.42,  20.08,   5.92,  20.58,  26.17,  17.5 ,\n",
       "        18.33,  21.83,  26.83,  13.42,  19.25,  23.58,  23.92,  12.08,\n",
       "        14.42,  25.92,  18.58,  13.08,   4.58,  21.58,  10.5 ,  11.67,\n",
       "         8.58,  24.67,  14.75,  17.17,   7.33,   9.17,  11.58,  23.08,\n",
       "        25.25,  21.25,   8.42,  10.92,  14.  ,   4.92,  25.08,  12.67,\n",
       "        28.08,  21.33,  14.33,  14.83,  15.33,  15.92,   9.5 ,  27.75,\n",
       "        24.92,  22.58,   6.58,   9.33,  13.  ,  13.58,  11.08,   5.58,\n",
       "        15.  ,   6.75,   9.83,  11.25,  11.83,   9.58,   8.5 ,  14.08,\n",
       "        10.58,  22.17,  22.08,   8.75,  15.08,  25.5 ,  16.42,  18.92,\n",
       "         2.42,   3.92,  24.5 ,  23.  ,  10.  ,  19.  ,  16.58,   7.83,\n",
       "         3.17,  16.25,  24.08,   4.67,   6.92,  13.67,  25.  ,   8.08,\n",
       "        17.08,   7.42,  22.5 ,  12.92,   6.17,  23.67,   5.17,  13.33,\n",
       "        17.25,  25.42,  29.17,   9.  ,   9.42,   8.17,  26.58,  22.33,\n",
       "        12.5 ,  21.  ,  24.25,  27.5 ,  18.17,  16.67,   2.83,   2.75,\n",
       "         2.92,   3.  ,   7.17,  25.67,   2.67,  10.83,  18.5 ,  21.17,\n",
       "        23.33,  24.  ,  17.33,  27.42,  26.25,   4.33,   9.92,  19.67,\n",
       "        26.33,  16.92,  25.33,  27.25,  27.92,  27.  ,  12.  ,  10.67,\n",
       "        28.  ,  21.67,  21.92,  13.92,  13.5 ,   2.58,  22.42,  24.33,\n",
       "        18.08,  29.58,  29.67,  31.25,  33.17,  36.92,  20.25,  22.92,\n",
       "         6.83,   5.25,  20.67,  17.58,  19.17,  17.42,  11.92,  31.5 ,\n",
       "        19.83,  27.08,  26.92,  21.5 ,   6.07,  16.83,  20.5 ,  18.67,\n",
       "        10.75,  18.42,  28.58,  19.92,  20.  ,  22.  ,  29.83,  19.42,\n",
       "        25.17,   3.08,  18.75,  27.83,  20.17,  20.33,  20.75,  28.67,\n",
       "        35.83,  34.83,  23.25,  26.75,  19.75,  27.67,  16.08,  30.25,\n",
       "        28.75,  30.58,  18.83,  13.17,  30.5 ,  29.5 ,  28.83,  30.67,\n",
       "        17.67,  14.58,  29.  ,  28.33,  39.67,  16.75,   1.92,  37.42,\n",
       "        36.42,  23.42,  22.67,  33.75,  30.83,  28.92,   1.83,   3.67,\n",
       "         4.  ,   1.58,   1.67,   1.75,  20.92,  33.5 ,  30.33,  35.25,\n",
       "        31.83,  40.  ,  31.67,  32.08,  36.17,  30.75,  33.83,  34.5 ,\n",
       "        31.08,  30.17,  36.08,  33.33,  37.  ,  34.08,  37.08,   1.42,\n",
       "         1.33,   1.5 ,  37.83,  29.25,  34.25,  36.83,   3.42,  31.58,\n",
       "        33.58,  34.58,  32.17,   1.17,  35.17,  37.67,  37.25,  39.75,\n",
       "        31.  ,  37.75,  33.25,  31.17,  29.92,  31.92,  41.58,  37.17,\n",
       "        32.  ,  35.5 ,  39.  ,  31.42,  34.33,  38.58,  33.67,   3.33,\n",
       "         3.58,  34.17,  37.33,  35.42,  30.  ,  33.08,  38.83,  32.67,\n",
       "        29.42,  35.08,  32.5 ,  29.75,   1.08,   1.  ,  32.42,   1.25,\n",
       "        34.92,  35.75,  31.75,  33.  ,  34.75,  36.58,  41.83,  36.5 ,\n",
       "        33.42,  36.25,  40.67,   0.92,  37.58,   0.83,  40.75,  47.75,\n",
       "        36.  ,  40.42,  33.92,  30.42,  40.5 ,  29.08,  38.5 ,  34.67,\n",
       "         6.98,  30.92,  35.58,   3.25,  39.83,  37.92,  37.5 ,  39.08,\n",
       "        38.75,  34.42,  40.92,  13.4 ,  31.33,  42.  ,  32.75,  32.33,\n",
       "        32.83,  35.92,  32.25,  38.67,  38.33,  39.25,  41.08,  32.92,\n",
       "        36.75,  35.67,  35.33,  49.83,  34.  ,  47.08,  45.83,  39.42,\n",
       "        39.92,  32.58,  44.5 ,  41.5 ,    nan,  88.  ,  89.25, 117.92,\n",
       "        86.42, 116.17,  97.08, 113.83,  97.58, 115.83, 622.25, 124.42])"
      ]
     },
     "execution_count": 19,
     "metadata": {},
     "output_type": "execute_result"
    }
   ],
   "source": [
    "df['duration'].unique()"
   ]
  },
  {
   "cell_type": "code",
   "execution_count": 20,
   "id": "815f856f-c688-4226-8485-e6c7198ffa62",
   "metadata": {},
   "outputs": [
    {
     "data": {
      "text/plain": [
       "array([ 1,  2,  3,  4,  5,  6,  7,  8,  9, 10, 11, 12, 13, 14, 15, 16, 17,\n",
       "       18, 19, 20, 21, 22, 23, 24, 25, 26, 27, 28, 29, 30, 31, 32, 33, 34,\n",
       "       35, 36, 37, 38, 39, 40, 41, 42, 43, 44, 45, 46, 47, 48, 49],\n",
       "      dtype=int64)"
      ]
     },
     "execution_count": 20,
     "metadata": {},
     "output_type": "execute_result"
    }
   ],
   "source": [
    "df['days_left'].unique()"
   ]
  },
  {
   "cell_type": "code",
   "execution_count": 21,
   "id": "2f811010-8f6e-4a79-9c00-9ca40a12afce",
   "metadata": {},
   "outputs": [
    {
     "data": {
      "text/plain": [
       "array([5953, 5956, 5955, ..., '15195', '15720', '15983'], dtype=object)"
      ]
     },
     "execution_count": 21,
     "metadata": {},
     "output_type": "execute_result"
    }
   ],
   "source": [
    "df['price'].unique()"
   ]
  },
  {
   "cell_type": "markdown",
   "id": "5bc9748e-3b79-4096-9710-fe3f58708934",
   "metadata": {},
   "source": [
    "## Data Profiling\n",
    "### 1- Need to change the Data Type of Price Columns\n",
    "### 2- Need to remove the Na values from the Price,airline,class,duration\n",
    "### 3- Renaming the Columns 1 which is unnamed \n",
    "### 4- removing the NaN value from airline  column\n",
    "### 5- Setting the precission to the duration  column\n",
    "### 6- replacing the values in the departure_time and arrival time column \n",
    "### 7- Converting the values of stop columns -->"
   ]
  },
  {
   "cell_type": "markdown",
   "id": "842fa469-71e3-4bd6-a238-7575d8600de3",
   "metadata": {},
   "source": [
    "## Data Cleaning\n",
    "* Droping the Unnamed Column\n",
    "* Droping the Date Column \n",
    "* Removing the NA values \n",
    "* Rounding Off the Decimal Values From Duration Column\n",
    "* Converting the Values Of departure_time and arrival_time columnn.\n"
   ]
  },
  {
   "cell_type": "code",
   "execution_count": 22,
   "id": "b2b5f7f2-3b87-4038-ad61-3d09106ab1a7",
   "metadata": {
    "scrolled": true
   },
   "outputs": [
    {
     "data": {
      "text/html": [
       "<div>\n",
       "<style scoped>\n",
       "    .dataframe tbody tr th:only-of-type {\n",
       "        vertical-align: middle;\n",
       "    }\n",
       "\n",
       "    .dataframe tbody tr th {\n",
       "        vertical-align: top;\n",
       "    }\n",
       "\n",
       "    .dataframe thead th {\n",
       "        text-align: right;\n",
       "    }\n",
       "</style>\n",
       "<table border=\"1\" class=\"dataframe\">\n",
       "  <thead>\n",
       "    <tr style=\"text-align: right;\">\n",
       "      <th></th>\n",
       "      <th>airline</th>\n",
       "      <th>flight</th>\n",
       "      <th>source_city</th>\n",
       "      <th>departure_time</th>\n",
       "      <th>stops</th>\n",
       "      <th>arrival_time</th>\n",
       "      <th>destination_city</th>\n",
       "      <th>class</th>\n",
       "      <th>duration</th>\n",
       "      <th>days_left</th>\n",
       "      <th>price</th>\n",
       "      <th>date</th>\n",
       "    </tr>\n",
       "  </thead>\n",
       "  <tbody>\n",
       "    <tr>\n",
       "      <th>0</th>\n",
       "      <td>SpiceJet</td>\n",
       "      <td>SG-8709</td>\n",
       "      <td>Delhi</td>\n",
       "      <td>Evening</td>\n",
       "      <td>zero</td>\n",
       "      <td>Night</td>\n",
       "      <td>Mumbai</td>\n",
       "      <td>Economy</td>\n",
       "      <td>2.17</td>\n",
       "      <td>1</td>\n",
       "      <td>5953</td>\n",
       "      <td>01-01-2018</td>\n",
       "    </tr>\n",
       "    <tr>\n",
       "      <th>1</th>\n",
       "      <td>SpiceJet</td>\n",
       "      <td>SG-8157</td>\n",
       "      <td>Delhi</td>\n",
       "      <td>Early_Morning</td>\n",
       "      <td>zero</td>\n",
       "      <td>Morning</td>\n",
       "      <td>Mumbai</td>\n",
       "      <td>Economy</td>\n",
       "      <td>2.33</td>\n",
       "      <td>1</td>\n",
       "      <td>5953</td>\n",
       "      <td>02-01-2018</td>\n",
       "    </tr>\n",
       "  </tbody>\n",
       "</table>\n",
       "</div>"
      ],
      "text/plain": [
       "    airline   flight source_city departure_time stops arrival_time  \\\n",
       "0  SpiceJet  SG-8709       Delhi        Evening  zero        Night   \n",
       "1  SpiceJet  SG-8157       Delhi  Early_Morning  zero      Morning   \n",
       "\n",
       "  destination_city    class  duration  days_left price        date  \n",
       "0           Mumbai  Economy      2.17          1  5953  01-01-2018  \n",
       "1           Mumbai  Economy      2.33          1  5953  02-01-2018  "
      ]
     },
     "execution_count": 22,
     "metadata": {},
     "output_type": "execute_result"
    }
   ],
   "source": [
    "df.drop(['Unnamed: 0'],axis=1,inplace=True)\n",
    "df.head(2)"
   ]
  },
  {
   "cell_type": "code",
   "execution_count": 23,
   "id": "325d6315-71ec-4673-b7fc-a779f344f561",
   "metadata": {},
   "outputs": [],
   "source": [
    "df['stops'] = df['stops'].map({'zero': 'yes', 'one': 'no'})"
   ]
  },
  {
   "cell_type": "markdown",
   "id": "857d2041-10fd-474e-a431-c65f18bbeee3",
   "metadata": {},
   "source": [
    "## Dropping the Date column\n"
   ]
  },
  {
   "cell_type": "code",
   "execution_count": 24,
   "id": "984a6a12-77dd-4966-b66c-08c22ce595ad",
   "metadata": {},
   "outputs": [
    {
     "data": {
      "text/html": [
       "<div>\n",
       "<style scoped>\n",
       "    .dataframe tbody tr th:only-of-type {\n",
       "        vertical-align: middle;\n",
       "    }\n",
       "\n",
       "    .dataframe tbody tr th {\n",
       "        vertical-align: top;\n",
       "    }\n",
       "\n",
       "    .dataframe thead th {\n",
       "        text-align: right;\n",
       "    }\n",
       "</style>\n",
       "<table border=\"1\" class=\"dataframe\">\n",
       "  <thead>\n",
       "    <tr style=\"text-align: right;\">\n",
       "      <th></th>\n",
       "      <th>airline</th>\n",
       "      <th>flight</th>\n",
       "      <th>source_city</th>\n",
       "      <th>departure_time</th>\n",
       "      <th>stops</th>\n",
       "      <th>arrival_time</th>\n",
       "      <th>destination_city</th>\n",
       "      <th>class</th>\n",
       "      <th>duration</th>\n",
       "      <th>days_left</th>\n",
       "      <th>price</th>\n",
       "    </tr>\n",
       "  </thead>\n",
       "  <tbody>\n",
       "    <tr>\n",
       "      <th>0</th>\n",
       "      <td>SpiceJet</td>\n",
       "      <td>SG-8709</td>\n",
       "      <td>Delhi</td>\n",
       "      <td>Evening</td>\n",
       "      <td>yes</td>\n",
       "      <td>Night</td>\n",
       "      <td>Mumbai</td>\n",
       "      <td>Economy</td>\n",
       "      <td>2.17</td>\n",
       "      <td>1</td>\n",
       "      <td>5953</td>\n",
       "    </tr>\n",
       "  </tbody>\n",
       "</table>\n",
       "</div>"
      ],
      "text/plain": [
       "    airline   flight source_city departure_time stops arrival_time  \\\n",
       "0  SpiceJet  SG-8709       Delhi        Evening   yes        Night   \n",
       "\n",
       "  destination_city    class  duration  days_left price  \n",
       "0           Mumbai  Economy      2.17          1  5953  "
      ]
     },
     "execution_count": 24,
     "metadata": {},
     "output_type": "execute_result"
    }
   ],
   "source": [
    "df.drop(['date'],axis=1,inplace = True)\n",
    "df.head(1)"
   ]
  },
  {
   "cell_type": "code",
   "execution_count": 25,
   "id": "98956814-911e-4e75-a168-d06a9e439313",
   "metadata": {},
   "outputs": [],
   "source": [
    "### Converting the Data Type of Price column from obj to integer.\n",
    "df['price']=pd.to_numeric(df['price'],errors='coerce')"
   ]
  },
  {
   "cell_type": "code",
   "execution_count": 26,
   "id": "5e74e0c5-2180-40f5-8878-587b20ae0183",
   "metadata": {},
   "outputs": [
    {
     "data": {
      "text/plain": [
       "dtype('float64')"
      ]
     },
     "execution_count": 26,
     "metadata": {},
     "output_type": "execute_result"
    }
   ],
   "source": [
    "df['price'].dtype"
   ]
  },
  {
   "cell_type": "code",
   "execution_count": 27,
   "id": "9f88f421-d635-4f30-b682-ba06760b1021",
   "metadata": {},
   "outputs": [],
   "source": [
    "## Replacing the rows corresponding to the NA values in the Columns\n",
    "df.dropna(subset=['price','airline','class','duration'],inplace =True)"
   ]
  },
  {
   "cell_type": "code",
   "execution_count": 28,
   "id": "e3a1c662-5e95-4635-ad1a-c1b6b8d10ca7",
   "metadata": {},
   "outputs": [
    {
     "data": {
      "text/plain": [
       "airline                 0\n",
       "flight                  0\n",
       "source_city             0\n",
       "departure_time          0\n",
       "stops               13286\n",
       "arrival_time            0\n",
       "destination_city        0\n",
       "class                   0\n",
       "duration                0\n",
       "days_left               0\n",
       "price                   0\n",
       "dtype: int64"
      ]
     },
     "execution_count": 28,
     "metadata": {},
     "output_type": "execute_result"
    }
   ],
   "source": [
    "df.isna().sum()"
   ]
  },
  {
   "cell_type": "code",
   "execution_count": 29,
   "id": "5b242bd6-21fe-4da0-b26b-1dc2b3130740",
   "metadata": {},
   "outputs": [],
   "source": [
    "df.dropna(subset=['stops'],inplace =True)"
   ]
  },
  {
   "cell_type": "code",
   "execution_count": 30,
   "id": "bcc4446e-728e-48f9-82c9-f7feceea565f",
   "metadata": {},
   "outputs": [
    {
     "name": "stdout",
     "output_type": "stream",
     "text": [
      "<class 'pandas.core.frame.DataFrame'>\n",
      "Index: 286918 entries, 0 to 301205\n",
      "Data columns (total 11 columns):\n",
      " #   Column            Non-Null Count   Dtype  \n",
      "---  ------            --------------   -----  \n",
      " 0   airline           286918 non-null  object \n",
      " 1   flight            286918 non-null  object \n",
      " 2   source_city       286918 non-null  object \n",
      " 3   departure_time    286918 non-null  object \n",
      " 4   stops             286918 non-null  object \n",
      " 5   arrival_time      286918 non-null  object \n",
      " 6   destination_city  286918 non-null  object \n",
      " 7   class             286918 non-null  object \n",
      " 8   duration          286918 non-null  float64\n",
      " 9   days_left         286918 non-null  int64  \n",
      " 10  price             286918 non-null  float64\n",
      "dtypes: float64(2), int64(1), object(8)\n",
      "memory usage: 26.3+ MB\n"
     ]
    }
   ],
   "source": [
    "df.info()"
   ]
  },
  {
   "cell_type": "code",
   "execution_count": 31,
   "id": "431b6113-41a2-4f2b-a49c-06f41b4b9f61",
   "metadata": {},
   "outputs": [
    {
     "data": {
      "text/html": [
       "<div>\n",
       "<style scoped>\n",
       "    .dataframe tbody tr th:only-of-type {\n",
       "        vertical-align: middle;\n",
       "    }\n",
       "\n",
       "    .dataframe tbody tr th {\n",
       "        vertical-align: top;\n",
       "    }\n",
       "\n",
       "    .dataframe thead th {\n",
       "        text-align: right;\n",
       "    }\n",
       "</style>\n",
       "<table border=\"1\" class=\"dataframe\">\n",
       "  <thead>\n",
       "    <tr style=\"text-align: right;\">\n",
       "      <th></th>\n",
       "      <th>airline</th>\n",
       "      <th>flight</th>\n",
       "      <th>source_city</th>\n",
       "      <th>departure_time</th>\n",
       "      <th>stops</th>\n",
       "      <th>arrival_time</th>\n",
       "      <th>destination_city</th>\n",
       "      <th>class</th>\n",
       "      <th>duration</th>\n",
       "      <th>days_left</th>\n",
       "      <th>price</th>\n",
       "    </tr>\n",
       "  </thead>\n",
       "  <tbody>\n",
       "    <tr>\n",
       "      <th>0</th>\n",
       "      <td>SpiceJet</td>\n",
       "      <td>SG-8709</td>\n",
       "      <td>Delhi</td>\n",
       "      <td>Evening</td>\n",
       "      <td>yes</td>\n",
       "      <td>Night</td>\n",
       "      <td>Mumbai</td>\n",
       "      <td>Economy</td>\n",
       "      <td>2.17</td>\n",
       "      <td>1</td>\n",
       "      <td>5953.0</td>\n",
       "    </tr>\n",
       "    <tr>\n",
       "      <th>1</th>\n",
       "      <td>SpiceJet</td>\n",
       "      <td>SG-8157</td>\n",
       "      <td>Delhi</td>\n",
       "      <td>Early_Morning</td>\n",
       "      <td>yes</td>\n",
       "      <td>Morning</td>\n",
       "      <td>Mumbai</td>\n",
       "      <td>Economy</td>\n",
       "      <td>2.33</td>\n",
       "      <td>1</td>\n",
       "      <td>5953.0</td>\n",
       "    </tr>\n",
       "    <tr>\n",
       "      <th>2</th>\n",
       "      <td>AirAsia</td>\n",
       "      <td>I5-764</td>\n",
       "      <td>Delhi</td>\n",
       "      <td>Early_Morning</td>\n",
       "      <td>yes</td>\n",
       "      <td>Early_Morning</td>\n",
       "      <td>Mumbai</td>\n",
       "      <td>Economy</td>\n",
       "      <td>2.17</td>\n",
       "      <td>1</td>\n",
       "      <td>5956.0</td>\n",
       "    </tr>\n",
       "    <tr>\n",
       "      <th>3</th>\n",
       "      <td>Vistara</td>\n",
       "      <td>UK-995</td>\n",
       "      <td>Delhi</td>\n",
       "      <td>Morning</td>\n",
       "      <td>yes</td>\n",
       "      <td>Afternoon</td>\n",
       "      <td>Mumbai</td>\n",
       "      <td>Economy</td>\n",
       "      <td>2.25</td>\n",
       "      <td>1</td>\n",
       "      <td>5955.0</td>\n",
       "    </tr>\n",
       "    <tr>\n",
       "      <th>4</th>\n",
       "      <td>Vistara</td>\n",
       "      <td>UK-963</td>\n",
       "      <td>Delhi</td>\n",
       "      <td>Morning</td>\n",
       "      <td>yes</td>\n",
       "      <td>Morning</td>\n",
       "      <td>Mumbai</td>\n",
       "      <td>Economy</td>\n",
       "      <td>2.33</td>\n",
       "      <td>1</td>\n",
       "      <td>5955.0</td>\n",
       "    </tr>\n",
       "  </tbody>\n",
       "</table>\n",
       "</div>"
      ],
      "text/plain": [
       "    airline   flight source_city departure_time stops   arrival_time  \\\n",
       "0  SpiceJet  SG-8709       Delhi        Evening   yes          Night   \n",
       "1  SpiceJet  SG-8157       Delhi  Early_Morning   yes        Morning   \n",
       "2   AirAsia   I5-764       Delhi  Early_Morning   yes  Early_Morning   \n",
       "3   Vistara   UK-995       Delhi        Morning   yes      Afternoon   \n",
       "4   Vistara   UK-963       Delhi        Morning   yes        Morning   \n",
       "\n",
       "  destination_city    class  duration  days_left   price  \n",
       "0           Mumbai  Economy      2.17          1  5953.0  \n",
       "1           Mumbai  Economy      2.33          1  5953.0  \n",
       "2           Mumbai  Economy      2.17          1  5956.0  \n",
       "3           Mumbai  Economy      2.25          1  5955.0  \n",
       "4           Mumbai  Economy      2.33          1  5955.0  "
      ]
     },
     "execution_count": 31,
     "metadata": {},
     "output_type": "execute_result"
    }
   ],
   "source": [
    "df.head(5)"
   ]
  },
  {
   "cell_type": "code",
   "execution_count": 32,
   "id": "90b2abf8-7782-4ba4-88d4-f72a71a592b2",
   "metadata": {},
   "outputs": [
    {
     "data": {
      "text/html": [
       "<div>\n",
       "<style scoped>\n",
       "    .dataframe tbody tr th:only-of-type {\n",
       "        vertical-align: middle;\n",
       "    }\n",
       "\n",
       "    .dataframe tbody tr th {\n",
       "        vertical-align: top;\n",
       "    }\n",
       "\n",
       "    .dataframe thead th {\n",
       "        text-align: right;\n",
       "    }\n",
       "</style>\n",
       "<table border=\"1\" class=\"dataframe\">\n",
       "  <thead>\n",
       "    <tr style=\"text-align: right;\">\n",
       "      <th></th>\n",
       "      <th>airline</th>\n",
       "      <th>flight</th>\n",
       "      <th>source_city</th>\n",
       "      <th>departure_time</th>\n",
       "      <th>stops</th>\n",
       "      <th>arrival_time</th>\n",
       "      <th>destination_city</th>\n",
       "      <th>class</th>\n",
       "      <th>duration</th>\n",
       "      <th>days_left</th>\n",
       "      <th>price</th>\n",
       "    </tr>\n",
       "  </thead>\n",
       "  <tbody>\n",
       "    <tr>\n",
       "      <th>0</th>\n",
       "      <td>SpiceJet</td>\n",
       "      <td>SG-8709</td>\n",
       "      <td>Delhi</td>\n",
       "      <td>Evening</td>\n",
       "      <td>yes</td>\n",
       "      <td>Night</td>\n",
       "      <td>Mumbai</td>\n",
       "      <td>Economy</td>\n",
       "      <td>2.17</td>\n",
       "      <td>1</td>\n",
       "      <td>5953.0</td>\n",
       "    </tr>\n",
       "    <tr>\n",
       "      <th>1</th>\n",
       "      <td>SpiceJet</td>\n",
       "      <td>SG-8157</td>\n",
       "      <td>Delhi</td>\n",
       "      <td>Early_Morning</td>\n",
       "      <td>yes</td>\n",
       "      <td>Morning</td>\n",
       "      <td>Mumbai</td>\n",
       "      <td>Economy</td>\n",
       "      <td>2.33</td>\n",
       "      <td>1</td>\n",
       "      <td>5953.0</td>\n",
       "    </tr>\n",
       "    <tr>\n",
       "      <th>2</th>\n",
       "      <td>AirAsia</td>\n",
       "      <td>I5-764</td>\n",
       "      <td>Delhi</td>\n",
       "      <td>Early_Morning</td>\n",
       "      <td>yes</td>\n",
       "      <td>Early_Morning</td>\n",
       "      <td>Mumbai</td>\n",
       "      <td>Economy</td>\n",
       "      <td>2.17</td>\n",
       "      <td>1</td>\n",
       "      <td>5956.0</td>\n",
       "    </tr>\n",
       "    <tr>\n",
       "      <th>3</th>\n",
       "      <td>Vistara</td>\n",
       "      <td>UK-995</td>\n",
       "      <td>Delhi</td>\n",
       "      <td>Morning</td>\n",
       "      <td>yes</td>\n",
       "      <td>Afternoon</td>\n",
       "      <td>Mumbai</td>\n",
       "      <td>Economy</td>\n",
       "      <td>2.25</td>\n",
       "      <td>1</td>\n",
       "      <td>5955.0</td>\n",
       "    </tr>\n",
       "    <tr>\n",
       "      <th>4</th>\n",
       "      <td>Vistara</td>\n",
       "      <td>UK-963</td>\n",
       "      <td>Delhi</td>\n",
       "      <td>Morning</td>\n",
       "      <td>yes</td>\n",
       "      <td>Morning</td>\n",
       "      <td>Mumbai</td>\n",
       "      <td>Economy</td>\n",
       "      <td>2.33</td>\n",
       "      <td>1</td>\n",
       "      <td>5955.0</td>\n",
       "    </tr>\n",
       "    <tr>\n",
       "      <th>5</th>\n",
       "      <td>Vistara</td>\n",
       "      <td>UK-945</td>\n",
       "      <td>Delhi</td>\n",
       "      <td>Morning</td>\n",
       "      <td>yes</td>\n",
       "      <td>Afternoon</td>\n",
       "      <td>Mumbai</td>\n",
       "      <td>Economy</td>\n",
       "      <td>2.33</td>\n",
       "      <td>1</td>\n",
       "      <td>5955.0</td>\n",
       "    </tr>\n",
       "    <tr>\n",
       "      <th>6</th>\n",
       "      <td>Vistara</td>\n",
       "      <td>UK-927</td>\n",
       "      <td>Delhi</td>\n",
       "      <td>Morning</td>\n",
       "      <td>yes</td>\n",
       "      <td>Morning</td>\n",
       "      <td>Mumbai</td>\n",
       "      <td>Economy</td>\n",
       "      <td>2.08</td>\n",
       "      <td>1</td>\n",
       "      <td>6060.0</td>\n",
       "    </tr>\n",
       "    <tr>\n",
       "      <th>7</th>\n",
       "      <td>Vistara</td>\n",
       "      <td>UK-951</td>\n",
       "      <td>Delhi</td>\n",
       "      <td>Afternoon</td>\n",
       "      <td>yes</td>\n",
       "      <td>Evening</td>\n",
       "      <td>Mumbai</td>\n",
       "      <td>Economy</td>\n",
       "      <td>2.17</td>\n",
       "      <td>1</td>\n",
       "      <td>6060.0</td>\n",
       "    </tr>\n",
       "    <tr>\n",
       "      <th>8</th>\n",
       "      <td>GO_FIRST</td>\n",
       "      <td>G8-334</td>\n",
       "      <td>Delhi</td>\n",
       "      <td>Early_Morning</td>\n",
       "      <td>yes</td>\n",
       "      <td>Morning</td>\n",
       "      <td>Mumbai</td>\n",
       "      <td>Economy</td>\n",
       "      <td>2.17</td>\n",
       "      <td>1</td>\n",
       "      <td>5954.0</td>\n",
       "    </tr>\n",
       "    <tr>\n",
       "      <th>9</th>\n",
       "      <td>GO_FIRST</td>\n",
       "      <td>G8-336</td>\n",
       "      <td>Delhi</td>\n",
       "      <td>Afternoon</td>\n",
       "      <td>yes</td>\n",
       "      <td>Evening</td>\n",
       "      <td>Mumbai</td>\n",
       "      <td>Economy</td>\n",
       "      <td>2.25</td>\n",
       "      <td>1</td>\n",
       "      <td>5954.0</td>\n",
       "    </tr>\n",
       "  </tbody>\n",
       "</table>\n",
       "</div>"
      ],
      "text/plain": [
       "    airline   flight source_city departure_time stops   arrival_time  \\\n",
       "0  SpiceJet  SG-8709       Delhi        Evening   yes          Night   \n",
       "1  SpiceJet  SG-8157       Delhi  Early_Morning   yes        Morning   \n",
       "2   AirAsia   I5-764       Delhi  Early_Morning   yes  Early_Morning   \n",
       "3   Vistara   UK-995       Delhi        Morning   yes      Afternoon   \n",
       "4   Vistara   UK-963       Delhi        Morning   yes        Morning   \n",
       "5   Vistara   UK-945       Delhi        Morning   yes      Afternoon   \n",
       "6   Vistara   UK-927       Delhi        Morning   yes        Morning   \n",
       "7   Vistara   UK-951       Delhi      Afternoon   yes        Evening   \n",
       "8  GO_FIRST   G8-334       Delhi  Early_Morning   yes        Morning   \n",
       "9  GO_FIRST   G8-336       Delhi      Afternoon   yes        Evening   \n",
       "\n",
       "  destination_city    class  duration  days_left   price  \n",
       "0           Mumbai  Economy      2.17          1  5953.0  \n",
       "1           Mumbai  Economy      2.33          1  5953.0  \n",
       "2           Mumbai  Economy      2.17          1  5956.0  \n",
       "3           Mumbai  Economy      2.25          1  5955.0  \n",
       "4           Mumbai  Economy      2.33          1  5955.0  \n",
       "5           Mumbai  Economy      2.33          1  5955.0  \n",
       "6           Mumbai  Economy      2.08          1  6060.0  \n",
       "7           Mumbai  Economy      2.17          1  6060.0  \n",
       "8           Mumbai  Economy      2.17          1  5954.0  \n",
       "9           Mumbai  Economy      2.25          1  5954.0  "
      ]
     },
     "execution_count": 32,
     "metadata": {},
     "output_type": "execute_result"
    }
   ],
   "source": [
    "df['duration'] = df['duration'].round(2)\n",
    "df.head(10)"
   ]
  },
  {
   "cell_type": "code",
   "execution_count": 33,
   "id": "97aafb9d-9329-42b6-a6c0-c607aa274357",
   "metadata": {},
   "outputs": [],
   "source": [
    "df['duration'] = df['duration'].apply(lambda x: f\"{x:.2f}\")"
   ]
  },
  {
   "cell_type": "code",
   "execution_count": 34,
   "id": "d16ed9a0-1ae4-4ef2-8dc5-825efe5644d8",
   "metadata": {},
   "outputs": [
    {
     "data": {
      "text/plain": [
       "array(['yes', 'no'], dtype=object)"
      ]
     },
     "execution_count": 34,
     "metadata": {},
     "output_type": "execute_result"
    }
   ],
   "source": [
    "df['stops'].unique()"
   ]
  },
  {
   "cell_type": "code",
   "execution_count": 35,
   "id": "c20f7180-dcc8-42b8-ba26-d347e70f2ae1",
   "metadata": {},
   "outputs": [
    {
     "name": "stdout",
     "output_type": "stream",
     "text": [
      "<class 'pandas.core.frame.DataFrame'>\n",
      "Index: 286918 entries, 0 to 301205\n",
      "Data columns (total 11 columns):\n",
      " #   Column            Non-Null Count   Dtype  \n",
      "---  ------            --------------   -----  \n",
      " 0   airline           286918 non-null  object \n",
      " 1   flight            286918 non-null  object \n",
      " 2   source_city       286918 non-null  object \n",
      " 3   departure_time    286918 non-null  object \n",
      " 4   stops             286918 non-null  object \n",
      " 5   arrival_time      286918 non-null  object \n",
      " 6   destination_city  286918 non-null  object \n",
      " 7   class             286918 non-null  object \n",
      " 8   duration          286918 non-null  object \n",
      " 9   days_left         286918 non-null  int64  \n",
      " 10  price             286918 non-null  float64\n",
      "dtypes: float64(1), int64(1), object(9)\n",
      "memory usage: 26.3+ MB\n"
     ]
    }
   ],
   "source": [
    "df.info()"
   ]
  },
  {
   "cell_type": "code",
   "execution_count": 36,
   "id": "96a5de21-3f9b-4d56-9da8-a18d8fe8f623",
   "metadata": {},
   "outputs": [
    {
     "data": {
      "text/html": [
       "<div>\n",
       "<style scoped>\n",
       "    .dataframe tbody tr th:only-of-type {\n",
       "        vertical-align: middle;\n",
       "    }\n",
       "\n",
       "    .dataframe tbody tr th {\n",
       "        vertical-align: top;\n",
       "    }\n",
       "\n",
       "    .dataframe thead th {\n",
       "        text-align: right;\n",
       "    }\n",
       "</style>\n",
       "<table border=\"1\" class=\"dataframe\">\n",
       "  <thead>\n",
       "    <tr style=\"text-align: right;\">\n",
       "      <th></th>\n",
       "      <th>days_left</th>\n",
       "      <th>price</th>\n",
       "    </tr>\n",
       "  </thead>\n",
       "  <tbody>\n",
       "    <tr>\n",
       "      <th>count</th>\n",
       "      <td>286918.00000</td>\n",
       "      <td>2.869180e+05</td>\n",
       "    </tr>\n",
       "    <tr>\n",
       "      <th>mean</th>\n",
       "      <td>26.05465</td>\n",
       "      <td>2.133431e+04</td>\n",
       "    </tr>\n",
       "    <tr>\n",
       "      <th>std</th>\n",
       "      <td>13.55500</td>\n",
       "      <td>2.567636e+04</td>\n",
       "    </tr>\n",
       "    <tr>\n",
       "      <th>min</th>\n",
       "      <td>1.00000</td>\n",
       "      <td>1.105000e+03</td>\n",
       "    </tr>\n",
       "    <tr>\n",
       "      <th>25%</th>\n",
       "      <td>15.00000</td>\n",
       "      <td>4.748000e+03</td>\n",
       "    </tr>\n",
       "    <tr>\n",
       "      <th>50%</th>\n",
       "      <td>26.00000</td>\n",
       "      <td>7.411000e+03</td>\n",
       "    </tr>\n",
       "    <tr>\n",
       "      <th>75%</th>\n",
       "      <td>38.00000</td>\n",
       "      <td>4.414400e+04</td>\n",
       "    </tr>\n",
       "    <tr>\n",
       "      <th>max</th>\n",
       "      <td>49.00000</td>\n",
       "      <td>2.512780e+06</td>\n",
       "    </tr>\n",
       "  </tbody>\n",
       "</table>\n",
       "</div>"
      ],
      "text/plain": [
       "          days_left         price\n",
       "count  286918.00000  2.869180e+05\n",
       "mean       26.05465  2.133431e+04\n",
       "std        13.55500  2.567636e+04\n",
       "min         1.00000  1.105000e+03\n",
       "25%        15.00000  4.748000e+03\n",
       "50%        26.00000  7.411000e+03\n",
       "75%        38.00000  4.414400e+04\n",
       "max        49.00000  2.512780e+06"
      ]
     },
     "execution_count": 36,
     "metadata": {},
     "output_type": "execute_result"
    }
   ],
   "source": [
    "df.describe()"
   ]
  },
  {
   "cell_type": "markdown",
   "id": "18875ea6-2553-4319-a070-88bb7d0914ce",
   "metadata": {},
   "source": [
    "## Exploratory Data Analysis"
   ]
  },
  {
   "cell_type": "code",
   "execution_count": 37,
   "id": "0bbcd486-49d3-4189-8ecf-de421f1f7c00",
   "metadata": {},
   "outputs": [
    {
     "data": {
      "text/plain": [
       "array(['Evening', 'Early_Morning', 'Morning', 'Afternoon', 'Night',\n",
       "       'Late_Night'], dtype=object)"
      ]
     },
     "execution_count": 37,
     "metadata": {},
     "output_type": "execute_result"
    }
   ],
   "source": [
    "df['departure_time'].unique()"
   ]
  },
  {
   "cell_type": "code",
   "execution_count": 38,
   "id": "39247314-7a0b-4611-9e42-48c7c9784ce5",
   "metadata": {},
   "outputs": [],
   "source": [
    "df['departure_time'].replace({\n",
    "    'Early_Morning': 'Morning',\n",
    "    'Late_Night': 'Night'\n",
    "}, inplace=True)"
   ]
  },
  {
   "cell_type": "code",
   "execution_count": 39,
   "id": "c3d44f73-53e0-47b9-a103-4a93f54f5967",
   "metadata": {},
   "outputs": [],
   "source": [
    "df['arrival_time'].replace({\n",
    "    'Early_Morning': 'Morning',\n",
    "    'Late_Night': 'Night'\n",
    "}, inplace=True)"
   ]
  },
  {
   "cell_type": "code",
   "execution_count": 40,
   "id": "d8841219-a36f-436f-ad5a-209358213a15",
   "metadata": {},
   "outputs": [
    {
     "data": {
      "text/plain": [
       "array(['Night', 'Morning', 'Afternoon', 'Evening'], dtype=object)"
      ]
     },
     "execution_count": 40,
     "metadata": {},
     "output_type": "execute_result"
    }
   ],
   "source": [
    "df['arrival_time'].unique()\n"
   ]
  },
  {
   "cell_type": "code",
   "execution_count": 41,
   "id": "5301e856-665f-4cc0-9c8e-a900f9f75db5",
   "metadata": {},
   "outputs": [],
   "source": [
    "df.to_csv(r\"C:\\Users\\abhay\\Desktop\\Python DS\\Flight_Data_cleaned.csv\")"
   ]
  },
  {
   "cell_type": "code",
   "execution_count": 42,
   "id": "e0a077c7-0099-47ac-9dfb-9bcdce169389",
   "metadata": {},
   "outputs": [
    {
     "data": {
      "text/html": [
       "<div>\n",
       "<style scoped>\n",
       "    .dataframe tbody tr th:only-of-type {\n",
       "        vertical-align: middle;\n",
       "    }\n",
       "\n",
       "    .dataframe tbody tr th {\n",
       "        vertical-align: top;\n",
       "    }\n",
       "\n",
       "    .dataframe thead th {\n",
       "        text-align: right;\n",
       "    }\n",
       "</style>\n",
       "<table border=\"1\" class=\"dataframe\">\n",
       "  <thead>\n",
       "    <tr style=\"text-align: right;\">\n",
       "      <th></th>\n",
       "      <th>days_left</th>\n",
       "      <th>price</th>\n",
       "    </tr>\n",
       "  </thead>\n",
       "  <tbody>\n",
       "    <tr>\n",
       "      <th>count</th>\n",
       "      <td>286918.00000</td>\n",
       "      <td>2.869180e+05</td>\n",
       "    </tr>\n",
       "    <tr>\n",
       "      <th>mean</th>\n",
       "      <td>26.05465</td>\n",
       "      <td>2.133431e+04</td>\n",
       "    </tr>\n",
       "    <tr>\n",
       "      <th>std</th>\n",
       "      <td>13.55500</td>\n",
       "      <td>2.567636e+04</td>\n",
       "    </tr>\n",
       "    <tr>\n",
       "      <th>min</th>\n",
       "      <td>1.00000</td>\n",
       "      <td>1.105000e+03</td>\n",
       "    </tr>\n",
       "    <tr>\n",
       "      <th>25%</th>\n",
       "      <td>15.00000</td>\n",
       "      <td>4.748000e+03</td>\n",
       "    </tr>\n",
       "    <tr>\n",
       "      <th>50%</th>\n",
       "      <td>26.00000</td>\n",
       "      <td>7.411000e+03</td>\n",
       "    </tr>\n",
       "    <tr>\n",
       "      <th>75%</th>\n",
       "      <td>38.00000</td>\n",
       "      <td>4.414400e+04</td>\n",
       "    </tr>\n",
       "    <tr>\n",
       "      <th>max</th>\n",
       "      <td>49.00000</td>\n",
       "      <td>2.512780e+06</td>\n",
       "    </tr>\n",
       "  </tbody>\n",
       "</table>\n",
       "</div>"
      ],
      "text/plain": [
       "          days_left         price\n",
       "count  286918.00000  2.869180e+05\n",
       "mean       26.05465  2.133431e+04\n",
       "std        13.55500  2.567636e+04\n",
       "min         1.00000  1.105000e+03\n",
       "25%        15.00000  4.748000e+03\n",
       "50%        26.00000  7.411000e+03\n",
       "75%        38.00000  4.414400e+04\n",
       "max        49.00000  2.512780e+06"
      ]
     },
     "execution_count": 42,
     "metadata": {},
     "output_type": "execute_result"
    }
   ],
   "source": [
    "df.describe()"
   ]
  },
  {
   "cell_type": "code",
   "execution_count": 43,
   "id": "39a69558-5509-4030-992c-5bf4bce89e44",
   "metadata": {},
   "outputs": [
    {
     "data": {
      "text/plain": [
       "dtype('O')"
      ]
     },
     "execution_count": 43,
     "metadata": {},
     "output_type": "execute_result"
    }
   ],
   "source": [
    "df['flight'].dtype"
   ]
  },
  {
   "cell_type": "markdown",
   "id": "be3b7ef1-aa19-45bc-bc48-6a98f549cf64",
   "metadata": {},
   "source": [
    "### Data Visualisation "
   ]
  },
  {
   "cell_type": "code",
   "execution_count": 44,
   "id": "52eaf147-0ad0-4546-b82b-1112e6441b27",
   "metadata": {},
   "outputs": [
    {
     "data": {
      "text/html": [
       "<div>\n",
       "<style scoped>\n",
       "    .dataframe tbody tr th:only-of-type {\n",
       "        vertical-align: middle;\n",
       "    }\n",
       "\n",
       "    .dataframe tbody tr th {\n",
       "        vertical-align: top;\n",
       "    }\n",
       "\n",
       "    .dataframe thead th {\n",
       "        text-align: right;\n",
       "    }\n",
       "</style>\n",
       "<table border=\"1\" class=\"dataframe\">\n",
       "  <thead>\n",
       "    <tr style=\"text-align: right;\">\n",
       "      <th></th>\n",
       "      <th>airline</th>\n",
       "      <th>flight</th>\n",
       "      <th>source_city</th>\n",
       "      <th>departure_time</th>\n",
       "      <th>stops</th>\n",
       "      <th>arrival_time</th>\n",
       "      <th>destination_city</th>\n",
       "      <th>class</th>\n",
       "      <th>duration</th>\n",
       "      <th>days_left</th>\n",
       "      <th>price</th>\n",
       "    </tr>\n",
       "  </thead>\n",
       "  <tbody>\n",
       "    <tr>\n",
       "      <th>0</th>\n",
       "      <td>SpiceJet</td>\n",
       "      <td>SG-8709</td>\n",
       "      <td>Delhi</td>\n",
       "      <td>Evening</td>\n",
       "      <td>yes</td>\n",
       "      <td>Night</td>\n",
       "      <td>Mumbai</td>\n",
       "      <td>Economy</td>\n",
       "      <td>2.17</td>\n",
       "      <td>1</td>\n",
       "      <td>5953.0</td>\n",
       "    </tr>\n",
       "    <tr>\n",
       "      <th>1</th>\n",
       "      <td>SpiceJet</td>\n",
       "      <td>SG-8157</td>\n",
       "      <td>Delhi</td>\n",
       "      <td>Morning</td>\n",
       "      <td>yes</td>\n",
       "      <td>Morning</td>\n",
       "      <td>Mumbai</td>\n",
       "      <td>Economy</td>\n",
       "      <td>2.33</td>\n",
       "      <td>1</td>\n",
       "      <td>5953.0</td>\n",
       "    </tr>\n",
       "    <tr>\n",
       "      <th>2</th>\n",
       "      <td>AirAsia</td>\n",
       "      <td>I5-764</td>\n",
       "      <td>Delhi</td>\n",
       "      <td>Morning</td>\n",
       "      <td>yes</td>\n",
       "      <td>Morning</td>\n",
       "      <td>Mumbai</td>\n",
       "      <td>Economy</td>\n",
       "      <td>2.17</td>\n",
       "      <td>1</td>\n",
       "      <td>5956.0</td>\n",
       "    </tr>\n",
       "    <tr>\n",
       "      <th>3</th>\n",
       "      <td>Vistara</td>\n",
       "      <td>UK-995</td>\n",
       "      <td>Delhi</td>\n",
       "      <td>Morning</td>\n",
       "      <td>yes</td>\n",
       "      <td>Afternoon</td>\n",
       "      <td>Mumbai</td>\n",
       "      <td>Economy</td>\n",
       "      <td>2.25</td>\n",
       "      <td>1</td>\n",
       "      <td>5955.0</td>\n",
       "    </tr>\n",
       "  </tbody>\n",
       "</table>\n",
       "</div>"
      ],
      "text/plain": [
       "    airline   flight source_city departure_time stops arrival_time  \\\n",
       "0  SpiceJet  SG-8709       Delhi        Evening   yes        Night   \n",
       "1  SpiceJet  SG-8157       Delhi        Morning   yes      Morning   \n",
       "2   AirAsia   I5-764       Delhi        Morning   yes      Morning   \n",
       "3   Vistara   UK-995       Delhi        Morning   yes    Afternoon   \n",
       "\n",
       "  destination_city    class duration  days_left   price  \n",
       "0           Mumbai  Economy     2.17          1  5953.0  \n",
       "1           Mumbai  Economy     2.33          1  5953.0  \n",
       "2           Mumbai  Economy     2.17          1  5956.0  \n",
       "3           Mumbai  Economy     2.25          1  5955.0  "
      ]
     },
     "execution_count": 44,
     "metadata": {},
     "output_type": "execute_result"
    }
   ],
   "source": [
    "df.head(4)"
   ]
  },
  {
   "cell_type": "code",
   "execution_count": 45,
   "id": "66aea8e2-0313-450f-a599-da64cfac76bc",
   "metadata": {},
   "outputs": [
    {
     "data": {
      "image/png": "[encoded data removed]",
      "text/plain": [
       "<Figure size 1000x600 with 1 Axes>"
      ]
     },
     "metadata": {},
     "output_type": "display_data"
    }
   ],
   "source": [
    "sns.set(style=\"whitegrid\")\n",
    "plt.figure(figsize=(10, 6))\n",
    "# Calculating the total number of flights per source city\n",
    "city_counts = df.groupby(\"source_city\")[\"airline\"].count().reset_index()\n",
    "city_counts = city_counts.sort_values(by=\"airline\", ascending=False)  # Sort by count\n",
    "# Creating the bar chart\n",
    "sns.barplot(data=city_counts, x=\"source_city\", y=\"airline\")\n",
    "plt.title(\"Number of Flights by Source City (Sorted)\")\n",
    "plt.xlabel(\"Source City\")\n",
    "plt.ylabel(\"Number of Flights\")\n",
    "plt.xticks(rotation=45)\n",
    "plt.show()"
   ]
  },
  {
   "cell_type": "markdown",
   "id": "b816169c-08cc-414d-91c0-317096ca3d79",
   "metadata": {},
   "source": [
    "### From the Above we can conclude that mostly flights are run from Delhi "
   ]
  },
  {
   "cell_type": "code",
   "execution_count": 46,
   "id": "54e62d2d-d149-449b-b0e2-e47a7c95eb64",
   "metadata": {},
   "outputs": [
    {
     "data": {
      "image/png": "[encoded data removed]",
      "text/plain": [
       "<Figure size 1000x600 with 1 Axes>"
      ]
     },
     "metadata": {},
     "output_type": "display_data"
    }
   ],
   "source": [
    "sns.set(style=\"whitegrid\") \n",
    "plt.figure(figsize=(10, 6)) \n",
    "# Creating the bar chart\n",
    "sns.countplot(data=df, x=\"source_city\", hue=\"class\")\n",
    "plt.title(\"Number of Flights by Source City and Travel Class\")\n",
    "plt.xlabel(\"Source City\")\n",
    "plt.ylabel(\"Number of Flights\")\n",
    "plt.xticks(rotation=45)\n",
    "plt.show()"
   ]
  },
  {
   "cell_type": "markdown",
   "id": "00bd3af1-b96a-4f6d-81e7-63170eff0338",
   "metadata": {},
   "source": [
    "### From the Above we can conclude that Mostly Peopled preferring economy class travelling"
   ]
  },
  {
   "cell_type": "code",
   "execution_count": 47,
   "id": "c71ced4b-ff57-4624-b8a8-d49b174c0a5b",
   "metadata": {},
   "outputs": [
    {
     "data": {
      "image/png": "[encoded data removed]",
      "text/plain": [
       "<Figure size 1000x600 with 1 Axes>"
      ]
     },
     "metadata": {},
     "output_type": "display_data"
    }
   ],
   "source": [
    "sns.set(style=\"whitegrid\")\n",
    "plt.figure(figsize=(10, 6))\n",
    "# Sorting airlines alphabetically\n",
    "flights_sorted = df.sort_values(by=\"airline\")\n",
    "# Creating the bar chart\n",
    "sns.countplot(data=flights_sorted, x=\"source_city\", hue=\"airline\")\n",
    "plt.title(\"Number of Flights by Airline and Source City\")\n",
    "plt.xlabel(\"Source City\")\n",
    "plt.ylabel(\"Number of Flights\")\n",
    "plt.xticks(rotation=45)\n",
    "plt.show()"
   ]
  },
  {
   "cell_type": "markdown",
   "id": "19f77e8d-8690-44a8-9406-1cbb9dbffb84",
   "metadata": {},
   "source": [
    "### Vistara Airline has been used in Most of the Cities"
   ]
  },
  {
   "cell_type": "code",
   "execution_count": 48,
   "id": "34ca6597-de3b-4310-944c-4ecd4d496de0",
   "metadata": {},
   "outputs": [
    {
     "data": {
      "text/html": [
       "<div>\n",
       "<style scoped>\n",
       "    .dataframe tbody tr th:only-of-type {\n",
       "        vertical-align: middle;\n",
       "    }\n",
       "\n",
       "    .dataframe tbody tr th {\n",
       "        vertical-align: top;\n",
       "    }\n",
       "\n",
       "    .dataframe thead th {\n",
       "        text-align: right;\n",
       "    }\n",
       "</style>\n",
       "<table border=\"1\" class=\"dataframe\">\n",
       "  <thead>\n",
       "    <tr style=\"text-align: right;\">\n",
       "      <th></th>\n",
       "      <th>airline</th>\n",
       "      <th>flight</th>\n",
       "      <th>source_city</th>\n",
       "      <th>departure_time</th>\n",
       "      <th>stops</th>\n",
       "      <th>arrival_time</th>\n",
       "      <th>destination_city</th>\n",
       "      <th>class</th>\n",
       "      <th>duration</th>\n",
       "      <th>days_left</th>\n",
       "      <th>price</th>\n",
       "    </tr>\n",
       "  </thead>\n",
       "  <tbody>\n",
       "    <tr>\n",
       "      <th>0</th>\n",
       "      <td>SpiceJet</td>\n",
       "      <td>SG-8709</td>\n",
       "      <td>Delhi</td>\n",
       "      <td>Evening</td>\n",
       "      <td>yes</td>\n",
       "      <td>Night</td>\n",
       "      <td>Mumbai</td>\n",
       "      <td>Economy</td>\n",
       "      <td>2.17</td>\n",
       "      <td>1</td>\n",
       "      <td>5953.0</td>\n",
       "    </tr>\n",
       "    <tr>\n",
       "      <th>1</th>\n",
       "      <td>SpiceJet</td>\n",
       "      <td>SG-8157</td>\n",
       "      <td>Delhi</td>\n",
       "      <td>Morning</td>\n",
       "      <td>yes</td>\n",
       "      <td>Morning</td>\n",
       "      <td>Mumbai</td>\n",
       "      <td>Economy</td>\n",
       "      <td>2.33</td>\n",
       "      <td>1</td>\n",
       "      <td>5953.0</td>\n",
       "    </tr>\n",
       "    <tr>\n",
       "      <th>2</th>\n",
       "      <td>AirAsia</td>\n",
       "      <td>I5-764</td>\n",
       "      <td>Delhi</td>\n",
       "      <td>Morning</td>\n",
       "      <td>yes</td>\n",
       "      <td>Morning</td>\n",
       "      <td>Mumbai</td>\n",
       "      <td>Economy</td>\n",
       "      <td>2.17</td>\n",
       "      <td>1</td>\n",
       "      <td>5956.0</td>\n",
       "    </tr>\n",
       "    <tr>\n",
       "      <th>3</th>\n",
       "      <td>Vistara</td>\n",
       "      <td>UK-995</td>\n",
       "      <td>Delhi</td>\n",
       "      <td>Morning</td>\n",
       "      <td>yes</td>\n",
       "      <td>Afternoon</td>\n",
       "      <td>Mumbai</td>\n",
       "      <td>Economy</td>\n",
       "      <td>2.25</td>\n",
       "      <td>1</td>\n",
       "      <td>5955.0</td>\n",
       "    </tr>\n",
       "    <tr>\n",
       "      <th>4</th>\n",
       "      <td>Vistara</td>\n",
       "      <td>UK-963</td>\n",
       "      <td>Delhi</td>\n",
       "      <td>Morning</td>\n",
       "      <td>yes</td>\n",
       "      <td>Morning</td>\n",
       "      <td>Mumbai</td>\n",
       "      <td>Economy</td>\n",
       "      <td>2.33</td>\n",
       "      <td>1</td>\n",
       "      <td>5955.0</td>\n",
       "    </tr>\n",
       "  </tbody>\n",
       "</table>\n",
       "</div>"
      ],
      "text/plain": [
       "    airline   flight source_city departure_time stops arrival_time  \\\n",
       "0  SpiceJet  SG-8709       Delhi        Evening   yes        Night   \n",
       "1  SpiceJet  SG-8157       Delhi        Morning   yes      Morning   \n",
       "2   AirAsia   I5-764       Delhi        Morning   yes      Morning   \n",
       "3   Vistara   UK-995       Delhi        Morning   yes    Afternoon   \n",
       "4   Vistara   UK-963       Delhi        Morning   yes      Morning   \n",
       "\n",
       "  destination_city    class duration  days_left   price  \n",
       "0           Mumbai  Economy     2.17          1  5953.0  \n",
       "1           Mumbai  Economy     2.33          1  5953.0  \n",
       "2           Mumbai  Economy     2.17          1  5956.0  \n",
       "3           Mumbai  Economy     2.25          1  5955.0  \n",
       "4           Mumbai  Economy     2.33          1  5955.0  "
      ]
     },
     "execution_count": 48,
     "metadata": {},
     "output_type": "execute_result"
    }
   ],
   "source": [
    "df.head(5)"
   ]
  },
  {
   "cell_type": "code",
   "execution_count": 49,
   "id": "b2e85c2a-685e-47d5-8364-771921ea98b1",
   "metadata": {},
   "outputs": [
    {
     "data": {
      "text/plain": [
       "array(['yes', 'no'], dtype=object)"
      ]
     },
     "execution_count": 49,
     "metadata": {},
     "output_type": "execute_result"
    }
   ],
   "source": [
    "df['stops'].unique()"
   ]
  },
  {
   "cell_type": "code",
   "execution_count": 50,
   "id": "54b0b812-4a82-452e-825b-61d448baa7c5",
   "metadata": {},
   "outputs": [
    {
     "data": {
      "image/png": "[encoded data removed]",
      "text/plain": [
       "<Figure size 800x600 with 1 Axes>"
      ]
     },
     "metadata": {},
     "output_type": "display_data"
    }
   ],
   "source": [
    "stops_counts = df['stops'].value_counts()\n",
    "# Creating a pie chart\n",
    "plt.figure(figsize=(8, 6)) \n",
    "plt.pie(stops_counts, labels=['No Stops', 'Yes Stop'], autopct='%1.1f%%', startangle=90, colors=['skyblue', 'salmon'])\n",
    "plt.title(\"Distribution of Stops in Flights\")\n",
    "plt.axis('equal') \n",
    "plt.show()"
   ]
  },
  {
   "cell_type": "markdown",
   "id": "ed1fb12b-c8be-47b4-876d-281f731f872d",
   "metadata": {},
   "source": [
    "### From the above we can conclude that There are no many stops for the flights only 12.5 % are Available"
   ]
  },
  {
   "cell_type": "code",
   "execution_count": 51,
   "id": "8d0bfbf0-b43b-4657-ac89-14c738c60747",
   "metadata": {},
   "outputs": [
    {
     "data": {
      "image/png": "[encoded data removed]",
      "text/plain": [
       "<Figure size 1000x600 with 1 Axes>"
      ]
     },
     "metadata": {},
     "output_type": "display_data"
    }
   ],
   "source": [
    "sns.set(style=\"whitegrid\")\n",
    "plt.figure(figsize=(10, 6))\n",
    "# Creating the bar chart\n",
    "sns.countplot(data=df, x=\"source_city\", hue=\"departure_time\")\n",
    "plt.title(\"Departure Times by Source City\")\n",
    "plt.xlabel(\"Source City\")\n",
    "plt.ylabel(\"Number of Flights\")\n",
    "plt.xticks(rotation=45)\n",
    "plt.show()"
   ]
  },
  {
   "cell_type": "markdown",
   "id": "42bc0cc0-893e-44ac-8040-432f5ca2ba57",
   "metadata": {},
   "source": [
    "### From the Above we can find that Mostly  Flights are Departue at the Morning ..."
   ]
  },
  {
   "cell_type": "code",
   "execution_count": 52,
   "id": "ea8032f5-afad-4cf8-a7ac-bbda472de52f",
   "metadata": {},
   "outputs": [
    {
     "data": {
      "image/png": "[encoded data removed]",
      "text/plain": [
       "<Figure size 1000x600 with 1 Axes>"
      ]
     },
     "metadata": {},
     "output_type": "display_data"
    }
   ],
   "source": [
    "sns.set(style=\"whitegrid\")\n",
    "plt.figure(figsize=(10, 6))\n",
    "city_counts = df.groupby(\"destination_city\")[\"arrival_time\"].count().reset_index()\n",
    "city_counts = city_counts.sort_values(by=\"arrival_time\", ascending=False)  # Sort by count\n",
    "\n",
    "# Creating the bar chart\n",
    "sns.barplot(data=city_counts, x=\"destination_city\", y=\"arrival_time\")\n",
    "plt.title(\"Number of Flights by Destination City (Sorted)\")\n",
    "plt.xlabel(\"Destination City\")\n",
    "plt.ylabel(\"Number of Flights\")\n",
    "plt.xticks(rotation=45)\n",
    "plt.show()"
   ]
  },
  {
   "cell_type": "markdown",
   "id": "e480a2a2-e6cf-4d04-813d-0e8cd9c38e92",
   "metadata": {},
   "source": [
    "### From the above we can conclude that mostly flights are arrived at Mumbai"
   ]
  },
  {
   "cell_type": "code",
   "execution_count": 53,
   "id": "f394ad35-b8ae-4ea3-bce0-f34bcd53f594",
   "metadata": {},
   "outputs": [
    {
     "data": {
      "image/png": "[encoded data removed]",
      "text/plain": [
       "<Figure size 1000x600 with 1 Axes>"
      ]
     },
     "metadata": {},
     "output_type": "display_data"
    }
   ],
   "source": [
    "sns.set(style=\"whitegrid\") \n",
    "plt.figure(figsize=(10, 6)) \n",
    "arrival_counts = df.groupby(\"arrival_time\")[\"destination_city\"].count().reset_index()\n",
    "arrival_counts = arrival_counts.sort_values(by=\"arrival_time\")  # Sort by arrival time\n",
    "# Create the bar chart\n",
    "sns.barplot(data=arrival_counts, x=\"arrival_time\", y=\"destination_city\")\n",
    "plt.title(\"Number of Flights by Arrival Time\")\n",
    "plt.xlabel(\"Arrival Time\")\n",
    "plt.ylabel(\"Number of Flights\")\n",
    "plt.show()"
   ]
  },
  {
   "cell_type": "markdown",
   "id": "b620f5a8-d9b5-40cd-9116-41b6b861e8fd",
   "metadata": {},
   "source": [
    "### Mostly Flights Are Arrived at the Night "
   ]
  },
  {
   "cell_type": "code",
   "execution_count": null,
   "id": "9ab144f2-8adc-4179-8981-69122281553e",
   "metadata": {},
   "outputs": [],
   "source": []
  },
  {
   "cell_type": "code",
   "execution_count": null,
   "id": "ebf969b2-765e-4740-8cfa-959452b61ff0",
   "metadata": {},
   "outputs": [],
   "source": []
  },
  {
   "cell_type": "code",
   "execution_count": null,
   "id": "715c3ae3-f0f0-4365-ab47-70c349500d92",
   "metadata": {},
   "outputs": [],
   "source": []
  }
 ],
 "metadata": {
  "kernelspec": {
   "display_name": "Python 3 (ipykernel)",
   "language": "python",
   "name": "python3"
  },
  "language_info": {
   "codemirror_mode": {
    "name": "ipython",
    "version": 3
   },
   "file_extension": ".py",
   "mimetype": "text/x-python",
   "name": "python",
   "nbconvert_exporter": "python",
   "pygments_lexer": "ipython3",
   "version": "3.11.7"
  }
 },
 "nbformat": 4,
 "nbformat_minor": 5
}
